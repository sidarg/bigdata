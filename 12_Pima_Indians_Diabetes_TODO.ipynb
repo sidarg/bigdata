{
 "cells": [
  {
   "cell_type": "markdown",
   "metadata": {},
   "source": [
    "# Data \n",
    "\n",
    "The Pima Indians dataset is about the prediction of diabetes . This is a small dataset available from the UCI Machine Learning Repository. https://archive.ics.uci.edu/ml/datasets/Pima+Indians+Diabetes\n",
    "\n",
    "**Attribute Information:**\n",
    "\n",
    "1. Number of times pregnant\n",
    "2. Plasma glucose concentration a 2 hours in an oral glucose tolerance test\n",
    "3. Diastolic blood pressure (mm Hg)\n",
    "4. Triceps skin fold thickness (mm)\n",
    "5. 2-Hour serum insulin (mu U/ml)\n",
    "6. Body mass index (weight in kg/(height in m)^2)\n",
    "7. Diabetes pedigree function\n",
    "8. Age (years)\n",
    "9. Class variable (0 or 1) (diabetes mellitus)"
   ]
  },
  {
   "cell_type": "code",
   "execution_count": 145,
   "metadata": {
    "collapsed": true
   },
   "outputs": [],
   "source": [
    "from sklearn.model_selection import train_test_split\n",
    "from keras.models import Sequential\n",
    "from keras.layers import Dense\n",
    "from keras.utils import to_categorical\n",
    "import matplotlib.pyplot as plt\n",
    "from matplotlib.ticker import MaxNLocator\n",
    "import numpy as np"
   ]
  },
  {
   "cell_type": "code",
   "execution_count": 146,
   "metadata": {
    "collapsed": true
   },
   "outputs": [],
   "source": [
    "# fix random seed for reproducibility\n",
    "seed = 7\n",
    "np.random.seed(seed)"
   ]
  },
  {
   "cell_type": "code",
   "execution_count": 147,
   "metadata": {
    "collapsed": true
   },
   "outputs": [],
   "source": [
    "# load pima indians dataset\n",
    "dataset = np.loadtxt(\"pima-indians-diabetes.csv\", delimiter=\",\")"
   ]
  },
  {
   "cell_type": "code",
   "execution_count": 148,
   "metadata": {},
   "outputs": [
    {
     "name": "stdout",
     "output_type": "stream",
     "text": [
      "dataset ndim:  2\n",
      "dataset shape: (768, 9)\n",
      "dataset size:  6912\n"
     ]
    }
   ],
   "source": [
    "print(\"dataset ndim: \", dataset.ndim)\n",
    "print(\"dataset shape:\", dataset.shape)\n",
    "print(\"dataset size: \", dataset.size)"
   ]
  },
  {
   "cell_type": "code",
   "execution_count": 149,
   "metadata": {
    "collapsed": true
   },
   "outputs": [],
   "source": [
    "# split dataset into input (X) and output (Y) variables\n",
    "# output is the last column\n",
    "X = dataset[:,0:8]\n",
    "y = dataset[:,[8]]"
   ]
  },
  {
   "cell_type": "code",
   "execution_count": 150,
   "metadata": {},
   "outputs": [
    {
     "name": "stdout",
     "output_type": "stream",
     "text": [
      "y dataset ndim:  2\n",
      "y dataset size:  768\n"
     ]
    }
   ],
   "source": [
    "print(\"y dataset ndim: \", y.ndim)\n",
    "\n",
    "print(\"y dataset size: \", y.size)"
   ]
  },
  {
   "cell_type": "code",
   "execution_count": 151,
   "metadata": {
    "collapsed": true
   },
   "outputs": [
    {
     "name": "stdout",
     "output_type": "stream",
     "text": [
      "X dataset shape: (768, 8)\n"
     ]
    }
   ],
   "source": [
    "# print the shape of x\n",
    "#\n",
    "print(\"X dataset shape:\", X.shape)"
   ]
  },
  {
   "cell_type": "code",
   "execution_count": 152,
   "metadata": {
    "collapsed": true
   },
   "outputs": [
    {
     "data": {
      "text/plain": [
       "8"
      ]
     },
     "execution_count": 152,
     "metadata": {},
     "output_type": "execute_result"
    }
   ],
   "source": [
    "# save to number of input dimensions in input_dim\n",
    "input_dim = X.shape[1]\n",
    "input_dim"
   ]
  },
  {
   "cell_type": "code",
   "execution_count": 153,
   "metadata": {
    "collapsed": true
   },
   "outputs": [
    {
     "name": "stdout",
     "output_type": "stream",
     "text": [
      "y dataset shape: (768, 1)\n"
     ]
    }
   ],
   "source": [
    "# shape of y\n",
    "print(\"y dataset shape:\", y.shape)"
   ]
  },
  {
   "cell_type": "code",
   "execution_count": 154,
   "metadata": {},
   "outputs": [],
   "source": [
    "y=to_categorical(y,2)"
   ]
  },
  {
   "cell_type": "code",
   "execution_count": 155,
   "metadata": {
    "collapsed": true
   },
   "outputs": [],
   "source": [
    "# Create training and test sets\n",
    "# Test size should be 15%\n",
    "# The test and train set should be stratified\n",
    "# use a random state (for reproducability) of 42\n",
    "# TODO\n",
    "X_train, X_test, y_train, y_test = train_test_split(X, y, stratify=y, test_size=0.15, random_state=42)"
   ]
  },
  {
   "cell_type": "code",
   "execution_count": 156,
   "metadata": {
    "collapsed": true
   },
   "outputs": [
    {
     "name": "stdout",
     "output_type": "stream",
     "text": [
      "y dataset shape: (116, 8)\n",
      "y dataset shape: (652, 8)\n"
     ]
    }
   ],
   "source": [
    "# shape of X_test\n",
    "print(\"y dataset shape:\", X_test.shape)\n",
    "print(\"y dataset shape:\", X_train.shape)"
   ]
  },
  {
   "cell_type": "markdown",
   "metadata": {},
   "source": [
    "# Model"
   ]
  },
  {
   "cell_type": "code",
   "execution_count": 157,
   "metadata": {
    "collapsed": true
   },
   "outputs": [],
   "source": [
    "# 1. Create Sequential model\n",
    "# 2. + 3. Add two hidden dense layers with 12 and 8 nodes. Both should have Relu activations \n",
    "# 4. Add a final output layer\n",
    "# Think about how many nodes the final output layer should have and what activation function is appropiate\n",
    "model = Sequential()\n",
    "model.add(Dense(12, input_dim=8, activation='relu'))\n",
    "model.add(Dense(8,  activation='relu'))\n",
    "model.add(Dense(2, activation='softmax'))"
   ]
  },
  {
   "cell_type": "code",
   "execution_count": 158,
   "metadata": {
    "collapsed": true
   },
   "outputs": [],
   "source": [
    "# Compile the model\n",
    "# Think about what loss function is appropiate\n",
    "# Use as the optimizer Adam\n",
    "# Track as an additional metric Accuracy\n",
    "model.compile(optimizer='adam', loss='binary_crossentropy', metrics=['accuracy'])"
   ]
  },
  {
   "cell_type": "code",
   "execution_count": 159,
   "metadata": {
    "collapsed": true
   },
   "outputs": [
    {
     "name": "stdout",
     "output_type": "stream",
     "text": [
      "Train on 554 samples, validate on 98 samples\n",
      "Epoch 1/300\n",
      "554/554 [==============================] - 1s 2ms/step - loss: 1.9163 - acc: 0.5578 - val_loss: 1.2542 - val_acc: 0.5000\n",
      "Epoch 2/300\n",
      "554/554 [==============================] - 0s 237us/step - loss: 1.0321 - acc: 0.6029 - val_loss: 1.1177 - val_acc: 0.5612\n",
      "Epoch 3/300\n",
      "554/554 [==============================] - 0s 311us/step - loss: 0.8703 - acc: 0.6390 - val_loss: 0.8872 - val_acc: 0.6122\n",
      "Epoch 4/300\n",
      "554/554 [==============================] - 0s 232us/step - loss: 0.7431 - acc: 0.6787 - val_loss: 0.7934 - val_acc: 0.6633\n",
      "Epoch 5/300\n",
      "554/554 [==============================] - 0s 289us/step - loss: 0.7157 - acc: 0.6877 - val_loss: 0.7832 - val_acc: 0.6633\n",
      "Epoch 6/300\n",
      "554/554 [==============================] - 0s 315us/step - loss: 0.7615 - acc: 0.6480 - val_loss: 0.7700 - val_acc: 0.7041\n",
      "Epoch 7/300\n",
      "554/554 [==============================] - 0s 265us/step - loss: 0.7027 - acc: 0.6859 - val_loss: 0.7560 - val_acc: 0.5816\n",
      "Epoch 8/300\n",
      "554/554 [==============================] - 0s 193us/step - loss: 0.7613 - acc: 0.6372 - val_loss: 0.8202 - val_acc: 0.6735\n",
      "Epoch 9/300\n",
      "554/554 [==============================] - 0s 210us/step - loss: 0.7681 - acc: 0.6552 - val_loss: 0.6876 - val_acc: 0.5714\n",
      "Epoch 10/300\n",
      "554/554 [==============================] - 0s 245us/step - loss: 0.6552 - acc: 0.7004 - val_loss: 0.7642 - val_acc: 0.6837\n",
      "Epoch 11/300\n",
      "554/554 [==============================] - 0s 272us/step - loss: 0.6427 - acc: 0.6949 - val_loss: 0.6695 - val_acc: 0.6735\n",
      "Epoch 12/300\n",
      "554/554 [==============================] - 0s 223us/step - loss: 0.6460 - acc: 0.6968 - val_loss: 0.6544 - val_acc: 0.7653\n",
      "Epoch 13/300\n",
      "554/554 [==============================] - 0s 270us/step - loss: 0.6408 - acc: 0.7004 - val_loss: 0.7511 - val_acc: 0.7347\n",
      "Epoch 14/300\n",
      "554/554 [==============================] - 0s 211us/step - loss: 0.6405 - acc: 0.7004 - val_loss: 0.6701 - val_acc: 0.7449\n",
      "Epoch 15/300\n",
      "554/554 [==============================] - 0s 215us/step - loss: 0.6296 - acc: 0.6931 - val_loss: 0.8468 - val_acc: 0.6327\n",
      "Epoch 16/300\n",
      "554/554 [==============================] - 0s 194us/step - loss: 0.6309 - acc: 0.6895 - val_loss: 0.7903 - val_acc: 0.6735\n",
      "Epoch 17/300\n",
      "554/554 [==============================] - 0s 206us/step - loss: 0.6186 - acc: 0.7148 - val_loss: 0.6511 - val_acc: 0.7245\n",
      "Epoch 18/300\n",
      "554/554 [==============================] - 0s 198us/step - loss: 0.6159 - acc: 0.7220 - val_loss: 0.6476 - val_acc: 0.6837\n",
      "Epoch 19/300\n",
      "554/554 [==============================] - 0s 197us/step - loss: 0.5987 - acc: 0.7022 - val_loss: 0.8508 - val_acc: 0.6429\n",
      "Epoch 20/300\n",
      "554/554 [==============================] - 0s 194us/step - loss: 0.6130 - acc: 0.7166 - val_loss: 0.6596 - val_acc: 0.6531\n",
      "Epoch 21/300\n",
      "554/554 [==============================] - 0s 188us/step - loss: 0.6378 - acc: 0.6859 - val_loss: 0.6122 - val_acc: 0.7347\n",
      "Epoch 22/300\n",
      "554/554 [==============================] - 0s 182us/step - loss: 0.6355 - acc: 0.6968 - val_loss: 0.6211 - val_acc: 0.6939\n",
      "Epoch 23/300\n",
      "554/554 [==============================] - 0s 191us/step - loss: 0.6388 - acc: 0.7040 - val_loss: 0.6291 - val_acc: 0.6429\n",
      "Epoch 24/300\n",
      "554/554 [==============================] - 0s 217us/step - loss: 0.5804 - acc: 0.7058 - val_loss: 0.7975 - val_acc: 0.6531\n",
      "Epoch 25/300\n",
      "554/554 [==============================] - 0s 217us/step - loss: 0.5985 - acc: 0.7094 - val_loss: 0.6048 - val_acc: 0.7449\n",
      "Epoch 26/300\n",
      "554/554 [==============================] - 0s 225us/step - loss: 0.5697 - acc: 0.7365 - val_loss: 0.5914 - val_acc: 0.7245\n",
      "Epoch 27/300\n",
      "554/554 [==============================] - 0s 197us/step - loss: 0.5698 - acc: 0.7184 - val_loss: 0.6778 - val_acc: 0.6939\n",
      "Epoch 28/300\n",
      "554/554 [==============================] - 0s 219us/step - loss: 0.5800 - acc: 0.7292 - val_loss: 0.7443 - val_acc: 0.6837\n",
      "Epoch 29/300\n",
      "554/554 [==============================] - 0s 213us/step - loss: 0.6176 - acc: 0.7040 - val_loss: 0.6051 - val_acc: 0.7245\n",
      "Epoch 30/300\n",
      "554/554 [==============================] - 0s 227us/step - loss: 0.5983 - acc: 0.7076 - val_loss: 0.6316 - val_acc: 0.7245\n",
      "Epoch 31/300\n",
      "554/554 [==============================] - 0s 207us/step - loss: 0.5803 - acc: 0.7220 - val_loss: 0.6686 - val_acc: 0.7347\n",
      "Epoch 32/300\n",
      "554/554 [==============================] - 0s 196us/step - loss: 0.6210 - acc: 0.6877 - val_loss: 0.6218 - val_acc: 0.6939\n",
      "Epoch 33/300\n",
      "554/554 [==============================] - 0s 185us/step - loss: 0.5866 - acc: 0.7202 - val_loss: 0.5621 - val_acc: 0.7449\n",
      "Epoch 34/300\n",
      "554/554 [==============================] - 0s 192us/step - loss: 0.5873 - acc: 0.7365 - val_loss: 0.6602 - val_acc: 0.6939\n",
      "Epoch 35/300\n",
      "554/554 [==============================] - 0s 244us/step - loss: 0.6023 - acc: 0.7094 - val_loss: 0.5956 - val_acc: 0.7041\n",
      "Epoch 36/300\n",
      "554/554 [==============================] - 0s 232us/step - loss: 0.5693 - acc: 0.7310 - val_loss: 0.5571 - val_acc: 0.7041\n",
      "Epoch 37/300\n",
      "554/554 [==============================] - 0s 215us/step - loss: 0.5796 - acc: 0.7058 - val_loss: 0.6264 - val_acc: 0.7143\n",
      "Epoch 38/300\n",
      "554/554 [==============================] - 0s 237us/step - loss: 0.5910 - acc: 0.7202 - val_loss: 0.6170 - val_acc: 0.7551\n",
      "Epoch 39/300\n",
      "554/554 [==============================] - 0s 195us/step - loss: 0.5657 - acc: 0.7166 - val_loss: 0.5633 - val_acc: 0.7347\n",
      "Epoch 40/300\n",
      "554/554 [==============================] - 0s 196us/step - loss: 0.5916 - acc: 0.7112 - val_loss: 0.5513 - val_acc: 0.7143\n",
      "Epoch 41/300\n",
      "554/554 [==============================] - 0s 190us/step - loss: 0.6032 - acc: 0.7022 - val_loss: 0.8404 - val_acc: 0.6224\n",
      "Epoch 42/300\n",
      "554/554 [==============================] - 0s 223us/step - loss: 0.5555 - acc: 0.7329 - val_loss: 0.5533 - val_acc: 0.7449\n",
      "Epoch 43/300\n",
      "554/554 [==============================] - 0s 220us/step - loss: 0.5635 - acc: 0.7058 - val_loss: 0.9858 - val_acc: 0.6122\n",
      "Epoch 44/300\n",
      "554/554 [==============================] - 0s 205us/step - loss: 0.5770 - acc: 0.7076 - val_loss: 0.5584 - val_acc: 0.7245\n",
      "Epoch 45/300\n",
      "554/554 [==============================] - 0s 193us/step - loss: 0.5484 - acc: 0.7365 - val_loss: 0.5445 - val_acc: 0.7653\n",
      "Epoch 46/300\n",
      "554/554 [==============================] - 0s 193us/step - loss: 0.5614 - acc: 0.7238 - val_loss: 0.5773 - val_acc: 0.7143\n",
      "Epoch 47/300\n",
      "554/554 [==============================] - 0s 200us/step - loss: 0.5690 - acc: 0.7202 - val_loss: 0.7614 - val_acc: 0.6224\n",
      "Epoch 48/300\n",
      "554/554 [==============================] - 0s 190us/step - loss: 0.5824 - acc: 0.7040 - val_loss: 0.5939 - val_acc: 0.7347\n",
      "Epoch 49/300\n",
      "554/554 [==============================] - 0s 198us/step - loss: 0.5424 - acc: 0.7310 - val_loss: 0.5589 - val_acc: 0.7653\n",
      "Epoch 50/300\n",
      "554/554 [==============================] - 0s 206us/step - loss: 0.5447 - acc: 0.7347 - val_loss: 0.5476 - val_acc: 0.7245\n",
      "Epoch 51/300\n",
      "554/554 [==============================] - 0s 224us/step - loss: 0.5628 - acc: 0.7401 - val_loss: 0.5793 - val_acc: 0.7653\n",
      "Epoch 52/300\n",
      "554/554 [==============================] - 0s 224us/step - loss: 0.5344 - acc: 0.7238 - val_loss: 0.5965 - val_acc: 0.7143\n",
      "Epoch 53/300\n",
      "554/554 [==============================] - 0s 225us/step - loss: 0.5587 - acc: 0.7292 - val_loss: 0.5416 - val_acc: 0.7347\n",
      "Epoch 54/300\n",
      "554/554 [==============================] - 0s 220us/step - loss: 0.5488 - acc: 0.7004 - val_loss: 0.5758 - val_acc: 0.7041\n",
      "Epoch 55/300\n",
      "554/554 [==============================] - 0s 212us/step - loss: 0.5392 - acc: 0.7419 - val_loss: 0.6677 - val_acc: 0.6633\n",
      "Epoch 56/300\n",
      "554/554 [==============================] - 0s 219us/step - loss: 0.5509 - acc: 0.7401 - val_loss: 0.5431 - val_acc: 0.7245\n",
      "Epoch 57/300\n",
      "554/554 [==============================] - 0s 232us/step - loss: 0.5801 - acc: 0.7202 - val_loss: 0.5788 - val_acc: 0.7449\n",
      "Epoch 58/300\n",
      "554/554 [==============================] - 0s 229us/step - loss: 0.5544 - acc: 0.7292 - val_loss: 0.5389 - val_acc: 0.7755\n",
      "Epoch 59/300\n",
      "554/554 [==============================] - 0s 222us/step - loss: 0.5165 - acc: 0.7563 - val_loss: 0.6073 - val_acc: 0.7347\n",
      "Epoch 60/300\n",
      "554/554 [==============================] - 0s 228us/step - loss: 0.5221 - acc: 0.7545 - val_loss: 0.5980 - val_acc: 0.7245\n",
      "Epoch 61/300\n",
      "554/554 [==============================] - 0s 227us/step - loss: 0.5246 - acc: 0.7635 - val_loss: 0.5532 - val_acc: 0.8061\n",
      "Epoch 62/300\n",
      "554/554 [==============================] - 0s 223us/step - loss: 0.5396 - acc: 0.7310 - val_loss: 0.5828 - val_acc: 0.6429\n",
      "Epoch 63/300\n",
      "554/554 [==============================] - 0s 222us/step - loss: 0.5661 - acc: 0.7220 - val_loss: 0.6096 - val_acc: 0.7041\n",
      "Epoch 64/300\n",
      "554/554 [==============================] - 0s 220us/step - loss: 0.5152 - acc: 0.7635 - val_loss: 0.5974 - val_acc: 0.7041\n",
      "Epoch 65/300\n",
      "554/554 [==============================] - 0s 221us/step - loss: 0.5192 - acc: 0.7401 - val_loss: 0.5446 - val_acc: 0.7041\n",
      "Epoch 66/300\n",
      "554/554 [==============================] - 0s 228us/step - loss: 0.5235 - acc: 0.7455 - val_loss: 0.6301 - val_acc: 0.6837\n",
      "Epoch 67/300\n",
      "554/554 [==============================] - 0s 230us/step - loss: 0.5397 - acc: 0.7491 - val_loss: 0.7102 - val_acc: 0.6837\n",
      "Epoch 68/300\n",
      "554/554 [==============================] - 0s 217us/step - loss: 0.5244 - acc: 0.7347 - val_loss: 0.5446 - val_acc: 0.7143\n",
      "Epoch 69/300\n",
      "554/554 [==============================] - 0s 204us/step - loss: 0.5346 - acc: 0.7473 - val_loss: 0.7356 - val_acc: 0.6837\n",
      "Epoch 70/300\n",
      "554/554 [==============================] - 0s 214us/step - loss: 0.5541 - acc: 0.7329 - val_loss: 0.5494 - val_acc: 0.7143\n",
      "Epoch 71/300\n",
      "554/554 [==============================] - 0s 223us/step - loss: 0.5129 - acc: 0.7635 - val_loss: 0.5424 - val_acc: 0.7347\n",
      "Epoch 72/300\n",
      "554/554 [==============================] - 0s 222us/step - loss: 0.5033 - acc: 0.7599 - val_loss: 0.6754 - val_acc: 0.7143\n",
      "Epoch 73/300\n",
      "554/554 [==============================] - 0s 221us/step - loss: 0.5208 - acc: 0.7473 - val_loss: 0.5344 - val_acc: 0.7755\n",
      "Epoch 74/300\n",
      "554/554 [==============================] - 0s 232us/step - loss: 0.5139 - acc: 0.7635 - val_loss: 0.6310 - val_acc: 0.7245\n",
      "Epoch 75/300\n",
      "554/554 [==============================] - 0s 327us/step - loss: 0.5327 - acc: 0.7401 - val_loss: 0.5206 - val_acc: 0.7449\n",
      "Epoch 76/300\n",
      "554/554 [==============================] - 0s 224us/step - loss: 0.5184 - acc: 0.7545 - val_loss: 0.5209 - val_acc: 0.7959\n",
      "Epoch 77/300\n",
      "554/554 [==============================] - 0s 736us/step - loss: 0.5232 - acc: 0.7437 - val_loss: 0.6155 - val_acc: 0.6837\n",
      "Epoch 78/300\n",
      "554/554 [==============================] - 0s 257us/step - loss: 0.5214 - acc: 0.7383 - val_loss: 0.5288 - val_acc: 0.7245\n",
      "Epoch 79/300\n",
      "554/554 [==============================] - 0s 236us/step - loss: 0.4977 - acc: 0.7708 - val_loss: 0.5202 - val_acc: 0.7653\n",
      "Epoch 80/300\n",
      "554/554 [==============================] - 0s 200us/step - loss: 0.5250 - acc: 0.7419 - val_loss: 0.6042 - val_acc: 0.7449\n",
      "Epoch 81/300\n",
      "554/554 [==============================] - 0s 204us/step - loss: 0.5255 - acc: 0.7563 - val_loss: 0.5440 - val_acc: 0.7959\n",
      "Epoch 82/300\n",
      "554/554 [==============================] - 0s 238us/step - loss: 0.5016 - acc: 0.7599 - val_loss: 0.5349 - val_acc: 0.7551\n",
      "Epoch 83/300\n",
      "554/554 [==============================] - 0s 273us/step - loss: 0.5089 - acc: 0.7491 - val_loss: 0.5245 - val_acc: 0.7755\n",
      "Epoch 84/300\n",
      "554/554 [==============================] - 0s 227us/step - loss: 0.5247 - acc: 0.7455 - val_loss: 0.5144 - val_acc: 0.7347\n",
      "Epoch 85/300\n",
      "554/554 [==============================] - 0s 237us/step - loss: 0.4996 - acc: 0.7563 - val_loss: 0.5152 - val_acc: 0.7653\n",
      "Epoch 86/300\n",
      "554/554 [==============================] - 0s 218us/step - loss: 0.5589 - acc: 0.7256 - val_loss: 0.5978 - val_acc: 0.7143\n",
      "Epoch 87/300\n",
      "554/554 [==============================] - 0s 234us/step - loss: 0.4993 - acc: 0.7581 - val_loss: 0.5214 - val_acc: 0.7245\n",
      "Epoch 88/300\n",
      "554/554 [==============================] - 0s 223us/step - loss: 0.5065 - acc: 0.7437 - val_loss: 0.5546 - val_acc: 0.7551\n",
      "Epoch 89/300\n",
      "554/554 [==============================] - 0s 266us/step - loss: 0.5102 - acc: 0.7744 - val_loss: 0.5384 - val_acc: 0.7551\n",
      "Epoch 90/300\n",
      "554/554 [==============================] - 0s 212us/step - loss: 0.5108 - acc: 0.7581 - val_loss: 0.5080 - val_acc: 0.7755\n",
      "Epoch 91/300\n",
      "554/554 [==============================] - 0s 212us/step - loss: 0.5210 - acc: 0.7310 - val_loss: 0.5115 - val_acc: 0.7551\n",
      "Epoch 92/300\n",
      "554/554 [==============================] - 0s 210us/step - loss: 0.4994 - acc: 0.7581 - val_loss: 0.5132 - val_acc: 0.7347\n",
      "Epoch 93/300\n",
      "554/554 [==============================] - 0s 235us/step - loss: 0.5043 - acc: 0.7599 - val_loss: 0.5567 - val_acc: 0.7755\n",
      "Epoch 94/300\n",
      "554/554 [==============================] - 0s 227us/step - loss: 0.5117 - acc: 0.7690 - val_loss: 0.5175 - val_acc: 0.8061\n",
      "Epoch 95/300\n",
      "554/554 [==============================] - 0s 235us/step - loss: 0.5016 - acc: 0.7581 - val_loss: 0.5067 - val_acc: 0.7551\n",
      "Epoch 96/300\n",
      "554/554 [==============================] - 0s 219us/step - loss: 0.5321 - acc: 0.7419 - val_loss: 0.5434 - val_acc: 0.7755\n",
      "Epoch 97/300\n",
      "554/554 [==============================] - 0s 220us/step - loss: 0.4970 - acc: 0.7635 - val_loss: 0.5195 - val_acc: 0.7755\n",
      "Epoch 98/300\n",
      "554/554 [==============================] - 0s 213us/step - loss: 0.5033 - acc: 0.7581 - val_loss: 0.6013 - val_acc: 0.7653\n",
      "Epoch 99/300\n",
      "554/554 [==============================] - 0s 220us/step - loss: 0.4986 - acc: 0.7509 - val_loss: 0.5643 - val_acc: 0.7347\n",
      "Epoch 100/300\n",
      "554/554 [==============================] - 0s 223us/step - loss: 0.4898 - acc: 0.7581 - val_loss: 0.4935 - val_acc: 0.7551\n",
      "Epoch 101/300\n",
      "554/554 [==============================] - 0s 217us/step - loss: 0.5044 - acc: 0.7491 - val_loss: 0.5012 - val_acc: 0.7449\n",
      "Epoch 102/300\n",
      "554/554 [==============================] - 0s 214us/step - loss: 0.4898 - acc: 0.7653 - val_loss: 0.4957 - val_acc: 0.7551\n",
      "Epoch 103/300\n",
      "554/554 [==============================] - 0s 220us/step - loss: 0.5222 - acc: 0.7455 - val_loss: 0.5704 - val_acc: 0.7449\n",
      "Epoch 104/300\n",
      "554/554 [==============================] - 0s 228us/step - loss: 0.4858 - acc: 0.7726 - val_loss: 0.5507 - val_acc: 0.7755\n",
      "Epoch 105/300\n",
      "554/554 [==============================] - 0s 222us/step - loss: 0.4941 - acc: 0.7762 - val_loss: 0.5186 - val_acc: 0.7653\n",
      "Epoch 106/300\n",
      "554/554 [==============================] - 0s 222us/step - loss: 0.4794 - acc: 0.7762 - val_loss: 0.5344 - val_acc: 0.7551\n",
      "Epoch 107/300\n",
      "554/554 [==============================] - 0s 219us/step - loss: 0.5008 - acc: 0.7726 - val_loss: 0.5525 - val_acc: 0.7347\n",
      "Epoch 108/300\n",
      "554/554 [==============================] - 0s 229us/step - loss: 0.4865 - acc: 0.7762 - val_loss: 0.5025 - val_acc: 0.7551\n",
      "Epoch 109/300\n",
      "554/554 [==============================] - 0s 213us/step - loss: 0.4945 - acc: 0.7545 - val_loss: 0.5737 - val_acc: 0.7449\n",
      "Epoch 110/300\n",
      "554/554 [==============================] - 0s 227us/step - loss: 0.4783 - acc: 0.7726 - val_loss: 0.5146 - val_acc: 0.7857\n",
      "Epoch 111/300\n",
      "554/554 [==============================] - 0s 219us/step - loss: 0.4958 - acc: 0.7599 - val_loss: 0.5294 - val_acc: 0.7959\n",
      "Epoch 112/300\n",
      "554/554 [==============================] - 0s 224us/step - loss: 0.5016 - acc: 0.7491 - val_loss: 0.4967 - val_acc: 0.7347\n",
      "Epoch 113/300\n",
      "554/554 [==============================] - 0s 211us/step - loss: 0.4834 - acc: 0.7780 - val_loss: 0.5209 - val_acc: 0.7857\n",
      "Epoch 114/300\n",
      "554/554 [==============================] - 0s 227us/step - loss: 0.4919 - acc: 0.7509 - val_loss: 0.5180 - val_acc: 0.7755\n",
      "Epoch 115/300\n",
      "554/554 [==============================] - 0s 223us/step - loss: 0.4854 - acc: 0.7762 - val_loss: 0.5076 - val_acc: 0.7449\n",
      "Epoch 116/300\n",
      "554/554 [==============================] - 0s 220us/step - loss: 0.4919 - acc: 0.7581 - val_loss: 0.5646 - val_acc: 0.7449\n",
      "Epoch 117/300\n",
      "554/554 [==============================] - 0s 223us/step - loss: 0.5117 - acc: 0.7383 - val_loss: 0.5139 - val_acc: 0.7755\n",
      "Epoch 118/300\n",
      "554/554 [==============================] - 0s 229us/step - loss: 0.4827 - acc: 0.7653 - val_loss: 0.5677 - val_acc: 0.7449\n",
      "Epoch 119/300\n",
      "554/554 [==============================] - 0s 240us/step - loss: 0.4921 - acc: 0.7617 - val_loss: 0.4952 - val_acc: 0.7653\n",
      "Epoch 120/300\n",
      "554/554 [==============================] - 0s 235us/step - loss: 0.4861 - acc: 0.7599 - val_loss: 0.5104 - val_acc: 0.7959\n",
      "Epoch 121/300\n",
      "554/554 [==============================] - 0s 225us/step - loss: 0.4785 - acc: 0.7635 - val_loss: 0.5057 - val_acc: 0.6939\n",
      "Epoch 122/300\n",
      "554/554 [==============================] - 0s 317us/step - loss: 0.4756 - acc: 0.7798 - val_loss: 0.5130 - val_acc: 0.7653\n",
      "Epoch 123/300\n",
      "554/554 [==============================] - 0s 215us/step - loss: 0.4792 - acc: 0.7690 - val_loss: 0.5101 - val_acc: 0.7449\n",
      "Epoch 124/300\n",
      "554/554 [==============================] - 0s 231us/step - loss: 0.4896 - acc: 0.7816 - val_loss: 0.5517 - val_acc: 0.7143\n",
      "Epoch 125/300\n",
      "554/554 [==============================] - 0s 223us/step - loss: 0.5614 - acc: 0.7383 - val_loss: 0.5140 - val_acc: 0.7857\n",
      "Epoch 126/300\n",
      "554/554 [==============================] - 0s 249us/step - loss: 0.4969 - acc: 0.7708 - val_loss: 0.5952 - val_acc: 0.7551\n",
      "Epoch 127/300\n",
      "554/554 [==============================] - 0s 245us/step - loss: 0.4928 - acc: 0.7690 - val_loss: 0.5069 - val_acc: 0.8163\n",
      "Epoch 128/300\n",
      "554/554 [==============================] - 0s 235us/step - loss: 0.4838 - acc: 0.7780 - val_loss: 0.4876 - val_acc: 0.7347\n",
      "Epoch 129/300\n",
      "554/554 [==============================] - 0s 213us/step - loss: 0.4807 - acc: 0.7563 - val_loss: 0.5401 - val_acc: 0.7857\n",
      "Epoch 130/300\n",
      "554/554 [==============================] - 0s 201us/step - loss: 0.4724 - acc: 0.7816 - val_loss: 0.5386 - val_acc: 0.7857\n",
      "Epoch 131/300\n",
      "554/554 [==============================] - 0s 215us/step - loss: 0.4861 - acc: 0.7744 - val_loss: 0.5590 - val_acc: 0.7857\n",
      "Epoch 132/300\n",
      "554/554 [==============================] - 0s 217us/step - loss: 0.4870 - acc: 0.7653 - val_loss: 0.5467 - val_acc: 0.7449\n",
      "Epoch 133/300\n",
      "554/554 [==============================] - 0s 206us/step - loss: 0.4919 - acc: 0.7744 - val_loss: 0.5599 - val_acc: 0.7551\n",
      "Epoch 134/300\n",
      "554/554 [==============================] - 0s 211us/step - loss: 0.4846 - acc: 0.7852 - val_loss: 0.5762 - val_acc: 0.6939\n",
      "Epoch 135/300\n",
      "554/554 [==============================] - 0s 213us/step - loss: 0.4783 - acc: 0.7744 - val_loss: 0.5017 - val_acc: 0.7857\n",
      "Epoch 136/300\n",
      "554/554 [==============================] - 0s 231us/step - loss: 0.4656 - acc: 0.7816 - val_loss: 0.4887 - val_acc: 0.7347\n",
      "Epoch 137/300\n",
      "554/554 [==============================] - 0s 215us/step - loss: 0.4809 - acc: 0.7726 - val_loss: 0.5184 - val_acc: 0.7755\n",
      "Epoch 138/300\n",
      "554/554 [==============================] - 0s 221us/step - loss: 0.4800 - acc: 0.7708 - val_loss: 0.5059 - val_acc: 0.7857\n",
      "Epoch 139/300\n",
      "554/554 [==============================] - 0s 223us/step - loss: 0.4733 - acc: 0.7708 - val_loss: 0.5268 - val_acc: 0.7857\n",
      "Epoch 140/300\n",
      "554/554 [==============================] - 0s 215us/step - loss: 0.4959 - acc: 0.7617 - val_loss: 0.4795 - val_acc: 0.7653\n",
      "Epoch 141/300\n",
      "554/554 [==============================] - 0s 221us/step - loss: 0.4762 - acc: 0.7671 - val_loss: 0.5887 - val_acc: 0.7653\n",
      "Epoch 142/300\n",
      "554/554 [==============================] - 0s 208us/step - loss: 0.4669 - acc: 0.7924 - val_loss: 0.4852 - val_acc: 0.7755\n",
      "Epoch 143/300\n",
      "554/554 [==============================] - 0s 221us/step - loss: 0.4670 - acc: 0.7780 - val_loss: 0.5124 - val_acc: 0.7857\n",
      "Epoch 144/300\n",
      "554/554 [==============================] - 0s 204us/step - loss: 0.4698 - acc: 0.7635 - val_loss: 0.4942 - val_acc: 0.7857\n",
      "Epoch 145/300\n",
      "554/554 [==============================] - 0s 200us/step - loss: 0.4758 - acc: 0.7762 - val_loss: 0.5473 - val_acc: 0.7857\n",
      "Epoch 146/300\n",
      "554/554 [==============================] - 0s 220us/step - loss: 0.4602 - acc: 0.7834 - val_loss: 0.5093 - val_acc: 0.7449\n",
      "Epoch 147/300\n",
      "554/554 [==============================] - 0s 211us/step - loss: 0.4762 - acc: 0.7726 - val_loss: 0.4913 - val_acc: 0.7551\n",
      "Epoch 148/300\n",
      "554/554 [==============================] - 0s 257us/step - loss: 0.4652 - acc: 0.7744 - val_loss: 0.4883 - val_acc: 0.7959\n",
      "Epoch 149/300\n",
      "554/554 [==============================] - 0s 224us/step - loss: 0.4885 - acc: 0.7690 - val_loss: 0.4996 - val_acc: 0.7449\n",
      "Epoch 150/300\n",
      "554/554 [==============================] - 0s 247us/step - loss: 0.4590 - acc: 0.7762 - val_loss: 0.5033 - val_acc: 0.7755\n",
      "Epoch 151/300\n",
      "554/554 [==============================] - 0s 240us/step - loss: 0.4770 - acc: 0.7527 - val_loss: 0.5318 - val_acc: 0.7551\n",
      "Epoch 152/300\n",
      "554/554 [==============================] - 0s 240us/step - loss: 0.4617 - acc: 0.7798 - val_loss: 0.4905 - val_acc: 0.7959\n",
      "Epoch 153/300\n",
      "554/554 [==============================] - 0s 215us/step - loss: 0.4579 - acc: 0.7924 - val_loss: 0.5996 - val_acc: 0.7551\n",
      "Epoch 154/300\n",
      "554/554 [==============================] - 0s 211us/step - loss: 0.4867 - acc: 0.7545 - val_loss: 0.5309 - val_acc: 0.7755\n",
      "Epoch 155/300\n",
      "554/554 [==============================] - 0s 228us/step - loss: 0.4764 - acc: 0.7690 - val_loss: 0.4858 - val_acc: 0.7347\n",
      "Epoch 156/300\n",
      "554/554 [==============================] - 0s 233us/step - loss: 0.4821 - acc: 0.7762 - val_loss: 0.5263 - val_acc: 0.7857\n",
      "Epoch 157/300\n",
      "554/554 [==============================] - 0s 212us/step - loss: 0.4914 - acc: 0.7762 - val_loss: 0.6193 - val_acc: 0.6735\n",
      "Epoch 158/300\n",
      "554/554 [==============================] - 0s 214us/step - loss: 0.4880 - acc: 0.7744 - val_loss: 0.5018 - val_acc: 0.7755\n",
      "Epoch 159/300\n",
      "554/554 [==============================] - 0s 207us/step - loss: 0.4757 - acc: 0.7762 - val_loss: 0.4984 - val_acc: 0.8061\n",
      "Epoch 160/300\n",
      "554/554 [==============================] - 0s 202us/step - loss: 0.4721 - acc: 0.7671 - val_loss: 0.4915 - val_acc: 0.7959\n",
      "Epoch 161/300\n",
      "554/554 [==============================] - 0s 211us/step - loss: 0.4628 - acc: 0.7671 - val_loss: 0.5175 - val_acc: 0.7449\n",
      "Epoch 162/300\n",
      "554/554 [==============================] - 0s 193us/step - loss: 0.4640 - acc: 0.7744 - val_loss: 0.5831 - val_acc: 0.7653\n",
      "Epoch 163/300\n",
      "554/554 [==============================] - 0s 207us/step - loss: 0.4658 - acc: 0.7942 - val_loss: 0.4850 - val_acc: 0.7959\n",
      "Epoch 164/300\n",
      "554/554 [==============================] - 0s 229us/step - loss: 0.4968 - acc: 0.7563 - val_loss: 0.6294 - val_acc: 0.7347\n",
      "Epoch 165/300\n",
      "554/554 [==============================] - 0s 213us/step - loss: 0.4479 - acc: 0.7888 - val_loss: 0.5241 - val_acc: 0.8061\n",
      "Epoch 166/300\n",
      "554/554 [==============================] - 0s 201us/step - loss: 0.5076 - acc: 0.7527 - val_loss: 0.5045 - val_acc: 0.7755\n",
      "Epoch 167/300\n",
      "554/554 [==============================] - 0s 205us/step - loss: 0.4602 - acc: 0.7978 - val_loss: 0.4897 - val_acc: 0.7755\n",
      "Epoch 168/300\n",
      "554/554 [==============================] - 0s 204us/step - loss: 0.4738 - acc: 0.7780 - val_loss: 0.5416 - val_acc: 0.7755\n",
      "Epoch 169/300\n",
      "554/554 [==============================] - 0s 209us/step - loss: 0.4654 - acc: 0.7762 - val_loss: 0.4938 - val_acc: 0.7245\n",
      "Epoch 170/300\n",
      "554/554 [==============================] - 0s 211us/step - loss: 0.4793 - acc: 0.7653 - val_loss: 0.5077 - val_acc: 0.7347\n",
      "Epoch 171/300\n",
      "554/554 [==============================] - 0s 229us/step - loss: 0.4635 - acc: 0.7888 - val_loss: 0.5712 - val_acc: 0.7347\n",
      "Epoch 172/300\n",
      "554/554 [==============================] - 0s 213us/step - loss: 0.4596 - acc: 0.7816 - val_loss: 0.5688 - val_acc: 0.7653\n",
      "Epoch 173/300\n",
      "554/554 [==============================] - 0s 211us/step - loss: 0.4534 - acc: 0.7960 - val_loss: 0.5713 - val_acc: 0.7449\n",
      "Epoch 174/300\n",
      "554/554 [==============================] - 0s 197us/step - loss: 0.4678 - acc: 0.7744 - val_loss: 0.4827 - val_acc: 0.7755\n",
      "Epoch 175/300\n",
      "554/554 [==============================] - 0s 190us/step - loss: 0.4623 - acc: 0.7870 - val_loss: 0.5677 - val_acc: 0.7245\n",
      "Epoch 176/300\n",
      "554/554 [==============================] - 0s 189us/step - loss: 0.4642 - acc: 0.7780 - val_loss: 0.5435 - val_acc: 0.7755\n",
      "Epoch 177/300\n",
      "554/554 [==============================] - 0s 208us/step - loss: 0.4603 - acc: 0.7726 - val_loss: 0.5162 - val_acc: 0.7857\n",
      "Epoch 178/300\n",
      "554/554 [==============================] - 0s 207us/step - loss: 0.4526 - acc: 0.7816 - val_loss: 0.5459 - val_acc: 0.7551\n",
      "Epoch 179/300\n",
      "554/554 [==============================] - 0s 197us/step - loss: 0.4430 - acc: 0.7888 - val_loss: 0.5118 - val_acc: 0.7857\n",
      "Epoch 180/300\n",
      "554/554 [==============================] - 0s 197us/step - loss: 0.4523 - acc: 0.7870 - val_loss: 0.5101 - val_acc: 0.7551\n",
      "Epoch 181/300\n",
      "554/554 [==============================] - 0s 205us/step - loss: 0.4523 - acc: 0.7906 - val_loss: 0.5503 - val_acc: 0.7755\n",
      "Epoch 182/300\n",
      "554/554 [==============================] - 0s 208us/step - loss: 0.4556 - acc: 0.7960 - val_loss: 0.5200 - val_acc: 0.6837\n",
      "Epoch 183/300\n",
      "554/554 [==============================] - 0s 197us/step - loss: 0.4856 - acc: 0.7617 - val_loss: 0.5112 - val_acc: 0.7143\n",
      "Epoch 184/300\n",
      "554/554 [==============================] - 0s 194us/step - loss: 0.4521 - acc: 0.7816 - val_loss: 0.5791 - val_acc: 0.7653\n",
      "Epoch 185/300\n",
      "554/554 [==============================] - 0s 198us/step - loss: 0.4465 - acc: 0.8014 - val_loss: 0.5280 - val_acc: 0.6837\n",
      "Epoch 186/300\n",
      "554/554 [==============================] - 0s 194us/step - loss: 0.4688 - acc: 0.7671 - val_loss: 0.5051 - val_acc: 0.7551\n",
      "Epoch 187/300\n",
      "554/554 [==============================] - 0s 205us/step - loss: 0.4668 - acc: 0.7798 - val_loss: 0.5036 - val_acc: 0.7653\n",
      "Epoch 188/300\n",
      "554/554 [==============================] - 0s 207us/step - loss: 0.4410 - acc: 0.7888 - val_loss: 0.5094 - val_acc: 0.7857\n",
      "Epoch 189/300\n",
      "554/554 [==============================] - 0s 228us/step - loss: 0.4563 - acc: 0.7996 - val_loss: 0.5624 - val_acc: 0.7653\n",
      "Epoch 190/300\n",
      "554/554 [==============================] - 0s 191us/step - loss: 0.4585 - acc: 0.7798 - val_loss: 0.4862 - val_acc: 0.7653\n",
      "Epoch 191/300\n",
      "554/554 [==============================] - 0s 220us/step - loss: 0.4531 - acc: 0.7906 - val_loss: 0.4988 - val_acc: 0.7755\n",
      "Epoch 192/300\n",
      "554/554 [==============================] - 0s 191us/step - loss: 0.4483 - acc: 0.8032 - val_loss: 0.5898 - val_acc: 0.7449\n",
      "Epoch 193/300\n",
      "554/554 [==============================] - 0s 190us/step - loss: 0.4484 - acc: 0.7888 - val_loss: 0.5301 - val_acc: 0.7755\n",
      "Epoch 194/300\n",
      "554/554 [==============================] - 0s 187us/step - loss: 0.4531 - acc: 0.7798 - val_loss: 0.5348 - val_acc: 0.7653\n",
      "Epoch 195/300\n",
      "554/554 [==============================] - 0s 191us/step - loss: 0.4903 - acc: 0.7780 - val_loss: 0.5002 - val_acc: 0.7653\n",
      "Epoch 196/300\n",
      "554/554 [==============================] - 0s 189us/step - loss: 0.4583 - acc: 0.7780 - val_loss: 0.4961 - val_acc: 0.7653\n",
      "Epoch 197/300\n",
      "554/554 [==============================] - 0s 208us/step - loss: 0.4745 - acc: 0.7780 - val_loss: 0.4856 - val_acc: 0.7143\n",
      "Epoch 198/300\n",
      "554/554 [==============================] - 0s 196us/step - loss: 0.4569 - acc: 0.7870 - val_loss: 0.4842 - val_acc: 0.7755\n",
      "Epoch 199/300\n",
      "554/554 [==============================] - 0s 195us/step - loss: 0.4329 - acc: 0.8069 - val_loss: 0.5459 - val_acc: 0.7755\n",
      "Epoch 200/300\n",
      "554/554 [==============================] - 0s 192us/step - loss: 0.4648 - acc: 0.7744 - val_loss: 0.5139 - val_acc: 0.7653\n",
      "Epoch 201/300\n",
      "554/554 [==============================] - 0s 191us/step - loss: 0.4601 - acc: 0.7780 - val_loss: 0.5482 - val_acc: 0.7755\n",
      "Epoch 202/300\n",
      "554/554 [==============================] - 0s 191us/step - loss: 0.4310 - acc: 0.7852 - val_loss: 0.4961 - val_acc: 0.7449\n",
      "Epoch 203/300\n",
      "554/554 [==============================] - 0s 198us/step - loss: 0.4522 - acc: 0.7996 - val_loss: 0.4883 - val_acc: 0.7959\n",
      "Epoch 204/300\n",
      "554/554 [==============================] - 0s 193us/step - loss: 0.4590 - acc: 0.7924 - val_loss: 0.5076 - val_acc: 0.7959\n",
      "Epoch 205/300\n",
      "554/554 [==============================] - 0s 208us/step - loss: 0.4495 - acc: 0.7906 - val_loss: 0.4900 - val_acc: 0.7857\n",
      "Epoch 206/300\n",
      "554/554 [==============================] - 0s 211us/step - loss: 0.4595 - acc: 0.7870 - val_loss: 0.5334 - val_acc: 0.7653\n",
      "Epoch 207/300\n",
      "554/554 [==============================] - 0s 205us/step - loss: 0.4624 - acc: 0.7798 - val_loss: 0.5115 - val_acc: 0.7347\n",
      "Epoch 208/300\n",
      "554/554 [==============================] - 0s 198us/step - loss: 0.4711 - acc: 0.7726 - val_loss: 0.5211 - val_acc: 0.7755\n",
      "Epoch 209/300\n",
      "554/554 [==============================] - 0s 211us/step - loss: 0.4448 - acc: 0.7852 - val_loss: 0.4970 - val_acc: 0.7653\n",
      "Epoch 210/300\n",
      "554/554 [==============================] - 0s 207us/step - loss: 0.4519 - acc: 0.7924 - val_loss: 0.5106 - val_acc: 0.7653\n",
      "Epoch 211/300\n",
      "554/554 [==============================] - 0s 213us/step - loss: 0.4479 - acc: 0.7834 - val_loss: 0.4983 - val_acc: 0.7449\n",
      "Epoch 212/300\n",
      "554/554 [==============================] - 0s 199us/step - loss: 0.4798 - acc: 0.7726 - val_loss: 0.4963 - val_acc: 0.7959\n",
      "Epoch 213/300\n",
      "554/554 [==============================] - 0s 199us/step - loss: 0.4572 - acc: 0.7852 - val_loss: 0.5388 - val_acc: 0.7653\n",
      "Epoch 214/300\n",
      "554/554 [==============================] - 0s 190us/step - loss: 0.4511 - acc: 0.7816 - val_loss: 0.5163 - val_acc: 0.7653\n",
      "Epoch 215/300\n",
      "554/554 [==============================] - 0s 186us/step - loss: 0.4406 - acc: 0.7834 - val_loss: 0.4981 - val_acc: 0.7347\n",
      "Epoch 216/300\n",
      "554/554 [==============================] - 0s 188us/step - loss: 0.4356 - acc: 0.7942 - val_loss: 0.5146 - val_acc: 0.7653\n",
      "Epoch 217/300\n",
      "554/554 [==============================] - 0s 191us/step - loss: 0.4409 - acc: 0.7816 - val_loss: 0.4949 - val_acc: 0.7857\n",
      "Epoch 218/300\n",
      "554/554 [==============================] - 0s 199us/step - loss: 0.4500 - acc: 0.7924 - val_loss: 0.4836 - val_acc: 0.7653\n",
      "Epoch 219/300\n",
      "554/554 [==============================] - 0s 194us/step - loss: 0.4485 - acc: 0.7942 - val_loss: 0.5575 - val_acc: 0.7755\n",
      "Epoch 220/300\n",
      "554/554 [==============================] - 0s 196us/step - loss: 0.4476 - acc: 0.7906 - val_loss: 0.4989 - val_acc: 0.7959\n",
      "Epoch 221/300\n",
      "554/554 [==============================] - 0s 194us/step - loss: 0.4417 - acc: 0.7906 - val_loss: 0.5243 - val_acc: 0.7857\n",
      "Epoch 222/300\n",
      "554/554 [==============================] - 0s 198us/step - loss: 0.4441 - acc: 0.7852 - val_loss: 0.4996 - val_acc: 0.7755\n",
      "Epoch 223/300\n",
      "554/554 [==============================] - 0s 200us/step - loss: 0.4404 - acc: 0.7960 - val_loss: 0.5002 - val_acc: 0.7347\n",
      "Epoch 224/300\n",
      "554/554 [==============================] - 0s 192us/step - loss: 0.4482 - acc: 0.7924 - val_loss: 0.4857 - val_acc: 0.7245\n",
      "Epoch 225/300\n",
      "554/554 [==============================] - 0s 192us/step - loss: 0.4493 - acc: 0.7906 - val_loss: 0.5110 - val_acc: 0.7449\n",
      "Epoch 226/300\n",
      "554/554 [==============================] - 0s 195us/step - loss: 0.4598 - acc: 0.7780 - val_loss: 0.5862 - val_acc: 0.7449\n",
      "Epoch 227/300\n",
      "554/554 [==============================] - 0s 209us/step - loss: 0.4549 - acc: 0.7798 - val_loss: 0.5070 - val_acc: 0.7857\n",
      "Epoch 228/300\n",
      "554/554 [==============================] - 0s 220us/step - loss: 0.4364 - acc: 0.7996 - val_loss: 0.4959 - val_acc: 0.7143\n",
      "Epoch 229/300\n",
      "554/554 [==============================] - 0s 196us/step - loss: 0.4541 - acc: 0.7924 - val_loss: 0.5560 - val_acc: 0.7653\n",
      "Epoch 230/300\n",
      "554/554 [==============================] - 0s 195us/step - loss: 0.4677 - acc: 0.7726 - val_loss: 0.5028 - val_acc: 0.7143\n",
      "Epoch 231/300\n",
      "554/554 [==============================] - 0s 197us/step - loss: 0.4462 - acc: 0.7978 - val_loss: 0.5282 - val_acc: 0.7755\n",
      "Epoch 232/300\n",
      "554/554 [==============================] - 0s 207us/step - loss: 0.4386 - acc: 0.7870 - val_loss: 0.5061 - val_acc: 0.7551\n",
      "Epoch 233/300\n",
      "554/554 [==============================] - 0s 196us/step - loss: 0.4405 - acc: 0.7888 - val_loss: 0.5108 - val_acc: 0.7653\n",
      "Epoch 234/300\n",
      "554/554 [==============================] - 0s 193us/step - loss: 0.4878 - acc: 0.7708 - val_loss: 0.4953 - val_acc: 0.8163\n",
      "Epoch 235/300\n",
      "554/554 [==============================] - 0s 205us/step - loss: 0.4352 - acc: 0.7978 - val_loss: 0.4981 - val_acc: 0.7755\n",
      "Epoch 236/300\n",
      "554/554 [==============================] - 0s 206us/step - loss: 0.4311 - acc: 0.7942 - val_loss: 0.5227 - val_acc: 0.7857\n",
      "Epoch 237/300\n",
      "554/554 [==============================] - 0s 212us/step - loss: 0.4452 - acc: 0.7834 - val_loss: 0.5028 - val_acc: 0.7347\n",
      "Epoch 238/300\n",
      "554/554 [==============================] - 0s 198us/step - loss: 0.4450 - acc: 0.7942 - val_loss: 0.5216 - val_acc: 0.7653\n",
      "Epoch 239/300\n",
      "554/554 [==============================] - 0s 218us/step - loss: 0.4683 - acc: 0.7816 - val_loss: 0.6310 - val_acc: 0.7143\n",
      "Epoch 240/300\n",
      "554/554 [==============================] - 0s 211us/step - loss: 0.4427 - acc: 0.7870 - val_loss: 0.4978 - val_acc: 0.7449\n",
      "Epoch 241/300\n",
      "554/554 [==============================] - 0s 208us/step - loss: 0.4383 - acc: 0.7924 - val_loss: 0.4999 - val_acc: 0.7551\n",
      "Epoch 242/300\n",
      "554/554 [==============================] - 0s 199us/step - loss: 0.4435 - acc: 0.7852 - val_loss: 0.4818 - val_acc: 0.7959\n",
      "Epoch 243/300\n",
      "554/554 [==============================] - 0s 196us/step - loss: 0.4348 - acc: 0.7996 - val_loss: 0.5173 - val_acc: 0.7857\n",
      "Epoch 244/300\n",
      "554/554 [==============================] - 0s 223us/step - loss: 0.4374 - acc: 0.8141 - val_loss: 0.4959 - val_acc: 0.7449\n",
      "Epoch 245/300\n",
      "554/554 [==============================] - 0s 208us/step - loss: 0.4304 - acc: 0.7888 - val_loss: 0.5642 - val_acc: 0.7653\n",
      "Epoch 246/300\n",
      "554/554 [==============================] - 0s 194us/step - loss: 0.4457 - acc: 0.7942 - val_loss: 0.5089 - val_acc: 0.7653\n",
      "Epoch 247/300\n",
      "554/554 [==============================] - 0s 195us/step - loss: 0.4467 - acc: 0.7996 - val_loss: 0.4927 - val_acc: 0.7653\n",
      "Epoch 248/300\n",
      "554/554 [==============================] - 0s 210us/step - loss: 0.4404 - acc: 0.7960 - val_loss: 0.4949 - val_acc: 0.7551\n",
      "Epoch 249/300\n",
      "554/554 [==============================] - 0s 199us/step - loss: 0.4414 - acc: 0.7924 - val_loss: 0.5171 - val_acc: 0.6939\n",
      "Epoch 250/300\n",
      "554/554 [==============================] - 0s 194us/step - loss: 0.4261 - acc: 0.8105 - val_loss: 0.5049 - val_acc: 0.7857\n",
      "Epoch 251/300\n",
      "554/554 [==============================] - 0s 195us/step - loss: 0.4510 - acc: 0.7762 - val_loss: 0.4983 - val_acc: 0.7857\n",
      "Epoch 252/300\n",
      "554/554 [==============================] - 0s 194us/step - loss: 0.4485 - acc: 0.7960 - val_loss: 0.5192 - val_acc: 0.7857\n",
      "Epoch 253/300\n",
      "554/554 [==============================] - 0s 205us/step - loss: 0.4351 - acc: 0.7834 - val_loss: 0.5219 - val_acc: 0.7551\n",
      "Epoch 254/300\n",
      "554/554 [==============================] - 0s 205us/step - loss: 0.4613 - acc: 0.8087 - val_loss: 0.5526 - val_acc: 0.7653\n",
      "Epoch 255/300\n",
      "554/554 [==============================] - 0s 194us/step - loss: 0.4474 - acc: 0.7798 - val_loss: 0.5537 - val_acc: 0.7653\n",
      "Epoch 256/300\n",
      "554/554 [==============================] - 0s 193us/step - loss: 0.4357 - acc: 0.7960 - val_loss: 0.5715 - val_acc: 0.7347\n",
      "Epoch 257/300\n",
      "554/554 [==============================] - 0s 195us/step - loss: 0.4349 - acc: 0.7924 - val_loss: 0.5029 - val_acc: 0.7551\n",
      "Epoch 258/300\n",
      "554/554 [==============================] - 0s 202us/step - loss: 0.4371 - acc: 0.7852 - val_loss: 0.4919 - val_acc: 0.7449\n",
      "Epoch 259/300\n",
      "554/554 [==============================] - 0s 192us/step - loss: 0.4512 - acc: 0.7834 - val_loss: 0.5001 - val_acc: 0.7857\n",
      "Epoch 260/300\n",
      "554/554 [==============================] - 0s 190us/step - loss: 0.4326 - acc: 0.8051 - val_loss: 0.5321 - val_acc: 0.7551\n",
      "Epoch 261/300\n",
      "554/554 [==============================] - 0s 203us/step - loss: 0.4409 - acc: 0.8051 - val_loss: 0.5144 - val_acc: 0.7755\n",
      "Epoch 262/300\n",
      "554/554 [==============================] - 0s 189us/step - loss: 0.4431 - acc: 0.7924 - val_loss: 0.4948 - val_acc: 0.7857\n",
      "Epoch 263/300\n",
      "554/554 [==============================] - 0s 209us/step - loss: 0.4675 - acc: 0.7780 - val_loss: 0.5395 - val_acc: 0.7449\n",
      "Epoch 264/300\n",
      "554/554 [==============================] - 0s 207us/step - loss: 0.4516 - acc: 0.7942 - val_loss: 0.5413 - val_acc: 0.7551\n",
      "Epoch 265/300\n",
      "554/554 [==============================] - 0s 198us/step - loss: 0.4507 - acc: 0.7726 - val_loss: 0.4898 - val_acc: 0.7449\n",
      "Epoch 266/300\n",
      "554/554 [==============================] - 0s 214us/step - loss: 0.4280 - acc: 0.8014 - val_loss: 0.5167 - val_acc: 0.7143\n",
      "Epoch 267/300\n",
      "554/554 [==============================] - 0s 199us/step - loss: 0.4469 - acc: 0.7960 - val_loss: 0.5154 - val_acc: 0.7245\n",
      "Epoch 268/300\n",
      "554/554 [==============================] - 0s 215us/step - loss: 0.4418 - acc: 0.7888 - val_loss: 0.5495 - val_acc: 0.7449\n",
      "Epoch 269/300\n",
      "554/554 [==============================] - 0s 212us/step - loss: 0.4409 - acc: 0.7834 - val_loss: 0.5033 - val_acc: 0.7143\n",
      "Epoch 270/300\n",
      "554/554 [==============================] - 0s 186us/step - loss: 0.4412 - acc: 0.7888 - val_loss: 0.5101 - val_acc: 0.7755\n",
      "Epoch 271/300\n",
      "554/554 [==============================] - 0s 191us/step - loss: 0.4299 - acc: 0.8051 - val_loss: 0.5214 - val_acc: 0.7245\n",
      "Epoch 272/300\n",
      "554/554 [==============================] - 0s 192us/step - loss: 0.4617 - acc: 0.7834 - val_loss: 0.4989 - val_acc: 0.7245\n",
      "Epoch 273/300\n",
      "554/554 [==============================] - 0s 196us/step - loss: 0.4435 - acc: 0.7816 - val_loss: 0.4947 - val_acc: 0.7755\n",
      "Epoch 274/300\n",
      "554/554 [==============================] - 0s 199us/step - loss: 0.4585 - acc: 0.7870 - val_loss: 0.5999 - val_acc: 0.7551\n",
      "Epoch 275/300\n",
      "554/554 [==============================] - 0s 195us/step - loss: 0.4363 - acc: 0.7996 - val_loss: 0.5836 - val_acc: 0.7449\n",
      "Epoch 276/300\n",
      "554/554 [==============================] - 0s 205us/step - loss: 0.4366 - acc: 0.7924 - val_loss: 0.5016 - val_acc: 0.7245\n",
      "Epoch 277/300\n",
      "554/554 [==============================] - 0s 197us/step - loss: 0.4516 - acc: 0.7671 - val_loss: 0.5009 - val_acc: 0.7449\n",
      "Epoch 278/300\n",
      "554/554 [==============================] - 0s 194us/step - loss: 0.4410 - acc: 0.8032 - val_loss: 0.5091 - val_acc: 0.7449\n",
      "Epoch 279/300\n",
      "554/554 [==============================] - 0s 195us/step - loss: 0.4308 - acc: 0.7978 - val_loss: 0.4823 - val_acc: 0.7245\n",
      "Epoch 280/300\n",
      "554/554 [==============================] - 0s 204us/step - loss: 0.4308 - acc: 0.8069 - val_loss: 0.4858 - val_acc: 0.7551\n",
      "Epoch 281/300\n",
      "554/554 [==============================] - 0s 215us/step - loss: 0.4435 - acc: 0.7996 - val_loss: 0.5155 - val_acc: 0.7551\n",
      "Epoch 282/300\n",
      "554/554 [==============================] - 0s 214us/step - loss: 0.4294 - acc: 0.8069 - val_loss: 0.5799 - val_acc: 0.7551\n",
      "Epoch 283/300\n",
      "554/554 [==============================] - 0s 212us/step - loss: 0.4288 - acc: 0.8213 - val_loss: 0.5170 - val_acc: 0.7245\n",
      "Epoch 284/300\n",
      "554/554 [==============================] - 0s 204us/step - loss: 0.4519 - acc: 0.7762 - val_loss: 0.4997 - val_acc: 0.7551\n",
      "Epoch 285/300\n",
      "554/554 [==============================] - 0s 289us/step - loss: 0.4367 - acc: 0.7906 - val_loss: 0.5183 - val_acc: 0.7857\n",
      "Epoch 286/300\n",
      "554/554 [==============================] - 0s 191us/step - loss: 0.4288 - acc: 0.8105 - val_loss: 0.4888 - val_acc: 0.7653\n",
      "Epoch 287/300\n",
      "554/554 [==============================] - 0s 189us/step - loss: 0.4573 - acc: 0.7816 - val_loss: 0.4876 - val_acc: 0.7959\n",
      "Epoch 288/300\n",
      "554/554 [==============================] - 0s 215us/step - loss: 0.4429 - acc: 0.8069 - val_loss: 0.5807 - val_acc: 0.7653\n",
      "Epoch 289/300\n",
      "554/554 [==============================] - 0s 196us/step - loss: 0.4305 - acc: 0.8069 - val_loss: 0.7207 - val_acc: 0.6837\n",
      "Epoch 290/300\n",
      "554/554 [==============================] - 0s 199us/step - loss: 0.4661 - acc: 0.7708 - val_loss: 0.5859 - val_acc: 0.7551\n",
      "Epoch 291/300\n",
      "554/554 [==============================] - 0s 196us/step - loss: 0.4377 - acc: 0.7888 - val_loss: 0.5280 - val_acc: 0.7449\n",
      "Epoch 292/300\n",
      "554/554 [==============================] - 0s 198us/step - loss: 0.4269 - acc: 0.8032 - val_loss: 0.5153 - val_acc: 0.7857\n",
      "Epoch 293/300\n",
      "554/554 [==============================] - 0s 260us/step - loss: 0.4473 - acc: 0.7978 - val_loss: 0.5358 - val_acc: 0.7551\n",
      "Epoch 294/300\n",
      "554/554 [==============================] - 0s 325us/step - loss: 0.4663 - acc: 0.7834 - val_loss: 0.5180 - val_acc: 0.7143\n",
      "Epoch 295/300\n",
      "554/554 [==============================] - 0s 236us/step - loss: 0.4317 - acc: 0.7888 - val_loss: 0.5060 - val_acc: 0.7041\n",
      "Epoch 296/300\n",
      "554/554 [==============================] - 0s 206us/step - loss: 0.4450 - acc: 0.7924 - val_loss: 0.4940 - val_acc: 0.7755\n",
      "Epoch 297/300\n",
      "554/554 [==============================] - 0s 198us/step - loss: 0.4237 - acc: 0.7978 - val_loss: 0.4941 - val_acc: 0.7245\n",
      "Epoch 298/300\n",
      "554/554 [==============================] - 0s 196us/step - loss: 0.4481 - acc: 0.7726 - val_loss: 0.5279 - val_acc: 0.7653\n",
      "Epoch 299/300\n",
      "554/554 [==============================] - 0s 199us/step - loss: 0.4580 - acc: 0.7762 - val_loss: 0.5477 - val_acc: 0.7551\n",
      "Epoch 300/300\n",
      "554/554 [==============================] - 0s 194us/step - loss: 0.4315 - acc: 0.8014 - val_loss: 0.5149 - val_acc: 0.7551\n"
     ]
    }
   ],
   "source": [
    "# Fit the model\n",
    "#\n",
    "# Use 15% for Validation\n",
    "# Train for 300 epochs\n",
    "# User batch size = 10\n",
    "# Save the model fitting into the variable history\n",
    "model.save('model_file.h5')\n",
    "history = model.fit(X_train, y_train, batch_size=10, epochs=300,validation_split=0.15)"
   ]
  },
  {
   "cell_type": "code",
   "execution_count": 160,
   "metadata": {
    "collapsed": true
   },
   "outputs": [
    {
     "name": "stdout",
     "output_type": "stream",
     "text": [
      "dict_keys(['val_loss', 'val_acc', 'loss', 'acc'])\n"
     ]
    }
   ],
   "source": [
    "# list all data in history\n",
    "print(history.history.keys())"
   ]
  },
  {
   "cell_type": "code",
   "execution_count": 161,
   "metadata": {
    "collapsed": true
   },
   "outputs": [
    {
     "data": {
      "image/png": "[encoded data removed]",
      "text/plain": [
       "<Figure size 432x288 with 1 Axes>"
      ]
     },
     "metadata": {
      "needs_background": "light"
     },
     "output_type": "display_data"
    }
   ],
   "source": [
    "# Plot the History of Training Loss (history.history['loss']) and the Validation Loss (history.history['val_loss'])\n",
    "# Title should be \"Model Loss\"\n",
    "# x label: \"Loss\"\n",
    "# y label: \"Epoch\"\n",
    "# Legend: \"Train\" and \"Validation\"\n",
    "plt.plot(history.history['loss'],  label='linear')\n",
    "plt.plot(history.history['val_loss'], label='linear')\n",
    "\n",
    "\n",
    "# Add a legend\n",
    "plt.legend([\"Train\" , \"Validation\"])\n",
    "\n",
    "# Show the plot\n",
    "plt.xlabel('Loss')\n",
    "plt.ylabel('Epoch')\n",
    "\n",
    "plt.show()"
   ]
  },
  {
   "cell_type": "code",
   "execution_count": 162,
   "metadata": {
    "collapsed": true
   },
   "outputs": [
    {
     "data": {
      "image/png": "[encoded data removed]",
      "text/plain": [
       "<Figure size 432x288 with 1 Axes>"
      ]
     },
     "metadata": {
      "needs_background": "light"
     },
     "output_type": "display_data"
    }
   ],
   "source": [
    "# Plot the History of Training Accuracy (history.history['acc']) and \n",
    "# the Validation Accuracy (history.history['val_acc'])\n",
    "#\n",
    "# Title should be \"Model Accuracy\"\n",
    "# x label: \"Accuracy\"\n",
    "# y label: \"Epoch\"\n",
    "# Legend: \"Train\" and \"Validation\"\n",
    "plt.plot(history.history['acc'],  label='linear')\n",
    "plt.plot(history.history['val_acc'], label='linear')\n",
    "\n",
    "\n",
    "# Add a legend\n",
    "plt.legend([\"Train\" , \"Validation\"])\n",
    "\n",
    "# Show the plot\n",
    "plt.xlabel('Loss')\n",
    "plt.ylabel('Epoch')\n",
    "\n",
    "plt.show()"
   ]
  },
  {
   "cell_type": "code",
   "execution_count": 163,
   "metadata": {
    "collapsed": true
   },
   "outputs": [
    {
     "name": "stdout",
     "output_type": "stream",
     "text": [
      "116/116 [==============================] - 0s 69us/step\n"
     ]
    }
   ],
   "source": [
    "# Evaluate the loss and accuracy on the test data\n",
    "loss, accuracy = model.evaluate(X_test, y_test)"
   ]
  },
  {
   "cell_type": "code",
   "execution_count": 164,
   "metadata": {
    "collapsed": true
   },
   "outputs": [
    {
     "name": "stdout",
     "output_type": "stream",
     "text": [
      "Test score: 0.5032154568310442\n",
      "Test accuracy: 0.7758620689655172\n"
     ]
    }
   ],
   "source": [
    "print('Test score:', loss)\n",
    "print('Test accuracy:', accuracy)"
   ]
  }
 ],
 "metadata": {
  "kernelspec": {
   "display_name": "Python 3",
   "language": "python",
   "name": "python3"
  },
  "language_info": {
   "codemirror_mode": {
    "name": "ipython",
    "version": 3
   },
   "file_extension": ".py",
   "mimetype": "text/x-python",
   "name": "python",
   "nbconvert_exporter": "python",
   "pygments_lexer": "ipython3",
   "version": "3.7.0"
  },
  "varInspector": {
   "cols": {
    "lenName": 16,
    "lenType": 16,
    "lenVar": 40
   },
   "kernels_config": {
    "python": {
     "delete_cmd_postfix": "",
     "delete_cmd_prefix": "del ",
     "library": "var_list.py",
     "varRefreshCmd": "print(var_dic_list())"
    },
    "r": {
     "delete_cmd_postfix": ") ",
     "delete_cmd_prefix": "rm(",
     "library": "var_list.r",
     "varRefreshCmd": "cat(var_dic_list()) "
    }
   },
   "types_to_exclude": [
    "module",
    "function",
    "builtin_function_or_method",
    "instance",
    "_Feature"
   ],
   "window_display": false
  }
 },
 "nbformat": 4,
 "nbformat_minor": 2
}
