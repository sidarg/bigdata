{
 "cells": [
  {
   "cell_type": "markdown",
   "metadata": {},
   "source": [
    "# Data \n",
    "\n",
    "The Pima Indians dataset is about the prediction of diabetes . This is a small dataset available from the UCI Machine Learning Repository. https://archive.ics.uci.edu/ml/datasets/Pima+Indians+Diabetes\n",
    "\n",
    "**Attribute Information:**\n",
    "\n",
    "1. Number of times pregnant\n",
    "2. Plasma glucose concentration a 2 hours in an oral glucose tolerance test\n",
    "3. Diastolic blood pressure (mm Hg)\n",
    "4. Triceps skin fold thickness (mm)\n",
    "5. 2-Hour serum insulin (mu U/ml)\n",
    "6. Body mass index (weight in kg/(height in m)^2)\n",
    "7. Diabetes pedigree function\n",
    "8. Age (years)\n",
    "9. Class variable (0 or 1) (diabetes mellitus)"
   ]
  },
  {
   "cell_type": "code",
   "execution_count": 125,
   "metadata": {
    "collapsed": true
   },
   "outputs": [],
   "source": [
    "from sklearn.model_selection import train_test_split\n",
    "from keras.models import Sequential\n",
    "from keras.layers import Dense\n",
    "from keras.utils import to_categorical\n",
    "import matplotlib.pyplot as plt\n",
    "from matplotlib.ticker import MaxNLocator\n",
    "import numpy as np"
   ]
  },
  {
   "cell_type": "code",
   "execution_count": 126,
   "metadata": {
    "collapsed": true
   },
   "outputs": [],
   "source": [
    "# fix random seed for reproducibility\n",
    "seed = 7\n",
    "np.random.seed(seed)"
   ]
  },
  {
   "cell_type": "code",
   "execution_count": 127,
   "metadata": {
    "collapsed": true
   },
   "outputs": [],
   "source": [
    "# load pima indians dataset\n",
    "dataset = np.loadtxt(\"pima-indians-diabetes.csv\", delimiter=\",\")"
   ]
  },
  {
   "cell_type": "code",
   "execution_count": 128,
   "metadata": {},
   "outputs": [
    {
     "name": "stdout",
     "output_type": "stream",
     "text": [
      "dataset ndim:  2\n",
      "dataset shape: (768, 9)\n",
      "dataset size:  6912\n"
     ]
    }
   ],
   "source": [
    "print(\"dataset ndim: \", dataset.ndim)\n",
    "print(\"dataset shape:\", dataset.shape)\n",
    "print(\"dataset size: \", dataset.size)"
   ]
  },
  {
   "cell_type": "code",
   "execution_count": 129,
   "metadata": {
    "collapsed": true
   },
   "outputs": [],
   "source": [
    "# split dataset into input (X) and output (Y) variables\n",
    "# output is the last column\n",
    "X = dataset[:,0:8]\n",
    "y = dataset[:,[8]]"
   ]
  },
  {
   "cell_type": "code",
   "execution_count": 130,
   "metadata": {},
   "outputs": [
    {
     "name": "stdout",
     "output_type": "stream",
     "text": [
      "y dataset ndim:  2\n",
      "y dataset size:  768\n"
     ]
    }
   ],
   "source": [
    "print(\"y dataset ndim: \", y.ndim)\n",
    "\n",
    "print(\"y dataset size: \", y.size)"
   ]
  },
  {
   "cell_type": "code",
   "execution_count": 131,
   "metadata": {
    "collapsed": true
   },
   "outputs": [
    {
     "name": "stdout",
     "output_type": "stream",
     "text": [
      "X dataset shape: (768, 8)\n"
     ]
    }
   ],
   "source": [
    "# print the shape of x\n",
    "#\n",
    "print(\"X dataset shape:\", X.shape)"
   ]
  },
  {
   "cell_type": "code",
   "execution_count": 132,
   "metadata": {
    "collapsed": true
   },
   "outputs": [
    {
     "data": {
      "text/plain": [
       "8"
      ]
     },
     "execution_count": 132,
     "metadata": {},
     "output_type": "execute_result"
    }
   ],
   "source": [
    "# save to number of input dimensions in input_dim\n",
    "input_dim = X.shape[1]\n",
    "input_dim"
   ]
  },
  {
   "cell_type": "code",
   "execution_count": 133,
   "metadata": {
    "collapsed": true
   },
   "outputs": [
    {
     "name": "stdout",
     "output_type": "stream",
     "text": [
      "y dataset shape: (768, 1)\n"
     ]
    }
   ],
   "source": [
    "# shape of y\n",
    "print(\"y dataset shape:\", y.shape)"
   ]
  },
  {
   "cell_type": "code",
   "execution_count": 134,
   "metadata": {},
   "outputs": [],
   "source": [
    "y=to_categorical(y,2)"
   ]
  },
  {
   "cell_type": "code",
   "execution_count": 135,
   "metadata": {
    "collapsed": true
   },
   "outputs": [],
   "source": [
    "# Create training and test sets\n",
    "# Test size should be 15%\n",
    "# The test and train set should be stratified\n",
    "# use a random state (for reproducability) of 42\n",
    "# TODO\n",
    "X_train, X_test, y_train, y_test = train_test_split(X, y, stratify=y, test_size=0.15, random_state=42)"
   ]
  },
  {
   "cell_type": "code",
   "execution_count": 136,
   "metadata": {
    "collapsed": true
   },
   "outputs": [
    {
     "name": "stdout",
     "output_type": "stream",
     "text": [
      "y dataset shape: (116, 8)\n",
      "y dataset shape: (652, 8)\n"
     ]
    }
   ],
   "source": [
    "# shape of X_test\n",
    "print(\"y dataset shape:\", X_test.shape)\n",
    "print(\"y dataset shape:\", X_train.shape)"
   ]
  },
  {
   "cell_type": "markdown",
   "metadata": {},
   "source": [
    "# Model"
   ]
  },
  {
   "cell_type": "code",
   "execution_count": 137,
   "metadata": {
    "collapsed": true
   },
   "outputs": [],
   "source": [
    "# 1. Create Sequential model\n",
    "# 2. + 3. Add two hidden dense layers with 12 and 8 nodes. Both should have Relu activations \n",
    "# 4. Add a final output layer\n",
    "# Think about how many nodes the final output layer should have and what activation function is appropiate\n",
    "model = Sequential()\n",
    "model.add(Dense(12, input_dim=8, activation='relu'))\n",
    "model.add(Dense(8,  activation='relu'))\n",
    "model.add(Dense(2, activation='softmax'))"
   ]
  },
  {
   "cell_type": "code",
   "execution_count": 138,
   "metadata": {
    "collapsed": true
   },
   "outputs": [],
   "source": [
    "# Compile the model\n",
    "# Think about what loss function is appropiate\n",
    "# Use as the optimizer Adam\n",
    "# Track as an additional metric Accuracy\n",
    "model.compile(optimizer='adam', loss='binary_crossentropy', metrics=['accuracy'])"
   ]
  },
  {
   "cell_type": "code",
   "execution_count": 139,
   "metadata": {
    "collapsed": true
   },
   "outputs": [
    {
     "name": "stdout",
     "output_type": "stream",
     "text": [
      "Train on 554 samples, validate on 98 samples\n",
      "Epoch 1/300\n",
      "554/554 [==============================] - 1s 2ms/step - loss: 1.9069 - acc: 0.5578 - val_loss: 1.2489 - val_acc: 0.5102\n",
      "Epoch 2/300\n",
      "554/554 [==============================] - 0s 229us/step - loss: 1.0279 - acc: 0.6065 - val_loss: 1.1178 - val_acc: 0.5612\n",
      "Epoch 3/300\n",
      "554/554 [==============================] - 0s 256us/step - loss: 0.8696 - acc: 0.6408 - val_loss: 0.8872 - val_acc: 0.6224\n",
      "Epoch 4/300\n",
      "554/554 [==============================] - 0s 210us/step - loss: 0.7429 - acc: 0.6805 - val_loss: 0.7918 - val_acc: 0.6633\n",
      "Epoch 5/300\n",
      "554/554 [==============================] - 0s 341us/step - loss: 0.7156 - acc: 0.6877 - val_loss: 0.7828 - val_acc: 0.6633\n",
      "Epoch 6/300\n",
      "554/554 [==============================] - 0s 315us/step - loss: 0.7614 - acc: 0.6498 - val_loss: 0.7696 - val_acc: 0.7041\n",
      "Epoch 7/300\n",
      "554/554 [==============================] - 0s 262us/step - loss: 0.7023 - acc: 0.6859 - val_loss: 0.7563 - val_acc: 0.5816\n",
      "Epoch 8/300\n",
      "554/554 [==============================] - 0s 317us/step - loss: 0.7606 - acc: 0.6372 - val_loss: 0.8201 - val_acc: 0.6735\n",
      "Epoch 9/300\n",
      "554/554 [==============================] - 0s 241us/step - loss: 0.7685 - acc: 0.6552 - val_loss: 0.6869 - val_acc: 0.5714\n",
      "Epoch 10/300\n",
      "554/554 [==============================] - 0s 271us/step - loss: 0.6552 - acc: 0.7004 - val_loss: 0.7630 - val_acc: 0.6837\n",
      "Epoch 11/300\n",
      "554/554 [==============================] - 0s 293us/step - loss: 0.6425 - acc: 0.6913 - val_loss: 0.6690 - val_acc: 0.6735\n",
      "Epoch 12/300\n",
      "554/554 [==============================] - 0s 219us/step - loss: 0.6457 - acc: 0.6986 - val_loss: 0.6537 - val_acc: 0.7653\n",
      "Epoch 13/300\n",
      "554/554 [==============================] - 0s 215us/step - loss: 0.6411 - acc: 0.7040 - val_loss: 0.7522 - val_acc: 0.7347\n",
      "Epoch 14/300\n",
      "554/554 [==============================] - 0s 219us/step - loss: 0.6399 - acc: 0.6968 - val_loss: 0.6705 - val_acc: 0.7143\n",
      "Epoch 15/300\n",
      "554/554 [==============================] - 0s 213us/step - loss: 0.6292 - acc: 0.6931 - val_loss: 0.8469 - val_acc: 0.6327\n",
      "Epoch 16/300\n",
      "554/554 [==============================] - 0s 221us/step - loss: 0.6306 - acc: 0.6895 - val_loss: 0.7895 - val_acc: 0.6735\n",
      "Epoch 17/300\n",
      "554/554 [==============================] - 0s 215us/step - loss: 0.6178 - acc: 0.7148 - val_loss: 0.6501 - val_acc: 0.7245\n",
      "Epoch 18/300\n",
      "554/554 [==============================] - 0s 185us/step - loss: 0.6158 - acc: 0.7202 - val_loss: 0.6471 - val_acc: 0.6837\n",
      "Epoch 19/300\n",
      "554/554 [==============================] - 0s 189us/step - loss: 0.5982 - acc: 0.7004 - val_loss: 0.8506 - val_acc: 0.6429\n",
      "Epoch 20/300\n",
      "554/554 [==============================] - 0s 195us/step - loss: 0.6129 - acc: 0.7166 - val_loss: 0.6589 - val_acc: 0.6531\n",
      "Epoch 21/300\n",
      "554/554 [==============================] - 0s 180us/step - loss: 0.6376 - acc: 0.6877 - val_loss: 0.6115 - val_acc: 0.7347\n",
      "Epoch 22/300\n",
      "554/554 [==============================] - 0s 174us/step - loss: 0.6349 - acc: 0.6986 - val_loss: 0.6200 - val_acc: 0.6939\n",
      "Epoch 23/300\n",
      "554/554 [==============================] - 0s 170us/step - loss: 0.6387 - acc: 0.7040 - val_loss: 0.6286 - val_acc: 0.6429\n",
      "Epoch 24/300\n",
      "554/554 [==============================] - 0s 167us/step - loss: 0.5803 - acc: 0.7058 - val_loss: 0.7987 - val_acc: 0.6531\n",
      "Epoch 25/300\n",
      "554/554 [==============================] - 0s 285us/step - loss: 0.5987 - acc: 0.7076 - val_loss: 0.6044 - val_acc: 0.7449\n",
      "Epoch 26/300\n",
      "554/554 [==============================] - 0s 223us/step - loss: 0.5695 - acc: 0.7365 - val_loss: 0.5912 - val_acc: 0.7143\n",
      "Epoch 27/300\n",
      "554/554 [==============================] - 0s 187us/step - loss: 0.5698 - acc: 0.7184 - val_loss: 0.6777 - val_acc: 0.6939\n",
      "Epoch 28/300\n",
      "554/554 [==============================] - 0s 232us/step - loss: 0.5800 - acc: 0.7292 - val_loss: 0.7446 - val_acc: 0.6837\n",
      "Epoch 29/300\n",
      "554/554 [==============================] - 0s 217us/step - loss: 0.6176 - acc: 0.7040 - val_loss: 0.6053 - val_acc: 0.7245\n",
      "Epoch 30/300\n",
      "554/554 [==============================] - 0s 184us/step - loss: 0.5984 - acc: 0.7094 - val_loss: 0.6314 - val_acc: 0.7245\n",
      "Epoch 31/300\n",
      "554/554 [==============================] - 0s 181us/step - loss: 0.5804 - acc: 0.7220 - val_loss: 0.6683 - val_acc: 0.7347\n",
      "Epoch 32/300\n",
      "554/554 [==============================] - 0s 187us/step - loss: 0.6208 - acc: 0.6859 - val_loss: 0.6220 - val_acc: 0.6939\n",
      "Epoch 33/300\n",
      "554/554 [==============================] - 0s 183us/step - loss: 0.5868 - acc: 0.7184 - val_loss: 0.5620 - val_acc: 0.7347\n",
      "Epoch 34/300\n",
      "554/554 [==============================] - 0s 215us/step - loss: 0.5873 - acc: 0.7365 - val_loss: 0.6611 - val_acc: 0.6939\n",
      "Epoch 35/300\n",
      "554/554 [==============================] - 0s 211us/step - loss: 0.6030 - acc: 0.7094 - val_loss: 0.5957 - val_acc: 0.7041\n",
      "Epoch 36/300\n",
      "554/554 [==============================] - 0s 188us/step - loss: 0.5693 - acc: 0.7310 - val_loss: 0.5572 - val_acc: 0.7041\n",
      "Epoch 37/300\n",
      "554/554 [==============================] - 0s 189us/step - loss: 0.5796 - acc: 0.7058 - val_loss: 0.6267 - val_acc: 0.7143\n",
      "Epoch 38/300\n",
      "554/554 [==============================] - 0s 192us/step - loss: 0.5909 - acc: 0.7184 - val_loss: 0.6180 - val_acc: 0.7551\n",
      "Epoch 39/300\n",
      "554/554 [==============================] - 0s 175us/step - loss: 0.5658 - acc: 0.7166 - val_loss: 0.5638 - val_acc: 0.7347\n",
      "Epoch 40/300\n",
      "554/554 [==============================] - 0s 174us/step - loss: 0.5915 - acc: 0.7112 - val_loss: 0.5519 - val_acc: 0.7143\n",
      "Epoch 41/300\n",
      "554/554 [==============================] - 0s 176us/step - loss: 0.6031 - acc: 0.7022 - val_loss: 0.8412 - val_acc: 0.6224\n",
      "Epoch 42/300\n",
      "554/554 [==============================] - 0s 178us/step - loss: 0.5554 - acc: 0.7329 - val_loss: 0.5539 - val_acc: 0.7449\n",
      "Epoch 43/300\n",
      "554/554 [==============================] - 0s 175us/step - loss: 0.5621 - acc: 0.7058 - val_loss: 0.9921 - val_acc: 0.6122\n",
      "Epoch 44/300\n",
      "554/554 [==============================] - 0s 179us/step - loss: 0.5772 - acc: 0.7094 - val_loss: 0.5587 - val_acc: 0.7143\n",
      "Epoch 45/300\n",
      "554/554 [==============================] - 0s 177us/step - loss: 0.5490 - acc: 0.7365 - val_loss: 0.5448 - val_acc: 0.7653\n",
      "Epoch 46/300\n",
      "554/554 [==============================] - 0s 177us/step - loss: 0.5612 - acc: 0.7220 - val_loss: 0.5787 - val_acc: 0.7143\n",
      "Epoch 47/300\n",
      "554/554 [==============================] - 0s 178us/step - loss: 0.5687 - acc: 0.7184 - val_loss: 0.7607 - val_acc: 0.6224\n",
      "Epoch 48/300\n",
      "554/554 [==============================] - 0s 179us/step - loss: 0.5822 - acc: 0.7058 - val_loss: 0.5936 - val_acc: 0.7347\n",
      "Epoch 49/300\n",
      "554/554 [==============================] - 0s 175us/step - loss: 0.5424 - acc: 0.7310 - val_loss: 0.5590 - val_acc: 0.7653\n",
      "Epoch 50/300\n",
      "554/554 [==============================] - 0s 179us/step - loss: 0.5448 - acc: 0.7365 - val_loss: 0.5475 - val_acc: 0.7245\n",
      "Epoch 51/300\n",
      "554/554 [==============================] - 0s 179us/step - loss: 0.5627 - acc: 0.7401 - val_loss: 0.5792 - val_acc: 0.7653\n",
      "Epoch 52/300\n",
      "554/554 [==============================] - 0s 175us/step - loss: 0.5343 - acc: 0.7274 - val_loss: 0.5970 - val_acc: 0.7143\n",
      "Epoch 53/300\n",
      "554/554 [==============================] - 0s 180us/step - loss: 0.5586 - acc: 0.7256 - val_loss: 0.5417 - val_acc: 0.7347\n",
      "Epoch 54/300\n",
      "554/554 [==============================] - 0s 178us/step - loss: 0.5485 - acc: 0.7022 - val_loss: 0.5764 - val_acc: 0.7041\n",
      "Epoch 55/300\n",
      "554/554 [==============================] - 0s 178us/step - loss: 0.5386 - acc: 0.7401 - val_loss: 0.6680 - val_acc: 0.6633\n",
      "Epoch 56/300\n",
      "554/554 [==============================] - 0s 175us/step - loss: 0.5501 - acc: 0.7419 - val_loss: 0.5430 - val_acc: 0.7245\n",
      "Epoch 57/300\n",
      "554/554 [==============================] - 0s 183us/step - loss: 0.5797 - acc: 0.7202 - val_loss: 0.5794 - val_acc: 0.7449\n",
      "Epoch 58/300\n",
      "554/554 [==============================] - 0s 174us/step - loss: 0.5548 - acc: 0.7310 - val_loss: 0.5388 - val_acc: 0.7857\n",
      "Epoch 59/300\n",
      "554/554 [==============================] - 0s 176us/step - loss: 0.5168 - acc: 0.7545 - val_loss: 0.6092 - val_acc: 0.7449\n",
      "Epoch 60/300\n",
      "554/554 [==============================] - 0s 176us/step - loss: 0.5223 - acc: 0.7545 - val_loss: 0.5989 - val_acc: 0.7245\n",
      "Epoch 61/300\n",
      "554/554 [==============================] - 0s 173us/step - loss: 0.5248 - acc: 0.7635 - val_loss: 0.5531 - val_acc: 0.8061\n",
      "Epoch 62/300\n",
      "554/554 [==============================] - 0s 172us/step - loss: 0.5387 - acc: 0.7310 - val_loss: 0.5838 - val_acc: 0.6429\n",
      "Epoch 63/300\n",
      "554/554 [==============================] - 0s 182us/step - loss: 0.5661 - acc: 0.7238 - val_loss: 0.6114 - val_acc: 0.7041\n",
      "Epoch 64/300\n",
      "554/554 [==============================] - 0s 182us/step - loss: 0.5152 - acc: 0.7653 - val_loss: 0.5985 - val_acc: 0.7041\n",
      "Epoch 65/300\n",
      "554/554 [==============================] - 0s 178us/step - loss: 0.5186 - acc: 0.7401 - val_loss: 0.5454 - val_acc: 0.7041\n",
      "Epoch 66/300\n",
      "554/554 [==============================] - 0s 176us/step - loss: 0.5233 - acc: 0.7491 - val_loss: 0.6312 - val_acc: 0.6837\n",
      "Epoch 67/300\n",
      "554/554 [==============================] - 0s 170us/step - loss: 0.5396 - acc: 0.7491 - val_loss: 0.7116 - val_acc: 0.6837\n",
      "Epoch 68/300\n",
      "554/554 [==============================] - 0s 170us/step - loss: 0.5243 - acc: 0.7365 - val_loss: 0.5462 - val_acc: 0.7143\n",
      "Epoch 69/300\n",
      "554/554 [==============================] - 0s 174us/step - loss: 0.5348 - acc: 0.7491 - val_loss: 0.7370 - val_acc: 0.6837\n",
      "Epoch 70/300\n",
      "554/554 [==============================] - 0s 174us/step - loss: 0.5539 - acc: 0.7310 - val_loss: 0.5498 - val_acc: 0.7143\n",
      "Epoch 71/300\n",
      "554/554 [==============================] - 0s 175us/step - loss: 0.5127 - acc: 0.7635 - val_loss: 0.5431 - val_acc: 0.7347\n",
      "Epoch 72/300\n",
      "554/554 [==============================] - 0s 174us/step - loss: 0.5032 - acc: 0.7599 - val_loss: 0.6750 - val_acc: 0.7143\n",
      "Epoch 73/300\n",
      "554/554 [==============================] - 0s 174us/step - loss: 0.5208 - acc: 0.7473 - val_loss: 0.5347 - val_acc: 0.7755\n",
      "Epoch 74/300\n",
      "554/554 [==============================] - 0s 175us/step - loss: 0.5138 - acc: 0.7617 - val_loss: 0.6328 - val_acc: 0.7143\n",
      "Epoch 75/300\n",
      "554/554 [==============================] - 0s 173us/step - loss: 0.5327 - acc: 0.7401 - val_loss: 0.5209 - val_acc: 0.7449\n",
      "Epoch 76/300\n",
      "554/554 [==============================] - 0s 170us/step - loss: 0.5184 - acc: 0.7545 - val_loss: 0.5210 - val_acc: 0.7959\n",
      "Epoch 77/300\n",
      "554/554 [==============================] - 0s 173us/step - loss: 0.5231 - acc: 0.7437 - val_loss: 0.6161 - val_acc: 0.6837\n",
      "Epoch 78/300\n",
      "554/554 [==============================] - 0s 176us/step - loss: 0.5214 - acc: 0.7383 - val_loss: 0.5294 - val_acc: 0.7245\n",
      "Epoch 79/300\n",
      "554/554 [==============================] - 0s 176us/step - loss: 0.4977 - acc: 0.7726 - val_loss: 0.5208 - val_acc: 0.7653\n",
      "Epoch 80/300\n",
      "554/554 [==============================] - 0s 176us/step - loss: 0.5250 - acc: 0.7419 - val_loss: 0.6051 - val_acc: 0.7449\n",
      "Epoch 81/300\n",
      "554/554 [==============================] - 0s 176us/step - loss: 0.5255 - acc: 0.7545 - val_loss: 0.5455 - val_acc: 0.7959\n",
      "Epoch 82/300\n",
      "554/554 [==============================] - 0s 176us/step - loss: 0.5014 - acc: 0.7599 - val_loss: 0.5339 - val_acc: 0.7551\n",
      "Epoch 83/300\n",
      "554/554 [==============================] - 0s 177us/step - loss: 0.5088 - acc: 0.7509 - val_loss: 0.5273 - val_acc: 0.7755\n",
      "Epoch 84/300\n",
      "554/554 [==============================] - 0s 178us/step - loss: 0.5248 - acc: 0.7437 - val_loss: 0.5147 - val_acc: 0.7347\n",
      "Epoch 85/300\n",
      "554/554 [==============================] - 0s 181us/step - loss: 0.4996 - acc: 0.7563 - val_loss: 0.5163 - val_acc: 0.7653\n",
      "Epoch 86/300\n",
      "554/554 [==============================] - 0s 188us/step - loss: 0.5589 - acc: 0.7238 - val_loss: 0.6019 - val_acc: 0.6837\n",
      "Epoch 87/300\n",
      "554/554 [==============================] - 0s 174us/step - loss: 0.4993 - acc: 0.7599 - val_loss: 0.5232 - val_acc: 0.7143\n",
      "Epoch 88/300\n",
      "554/554 [==============================] - 0s 176us/step - loss: 0.5065 - acc: 0.7437 - val_loss: 0.5577 - val_acc: 0.7449\n",
      "Epoch 89/300\n",
      "554/554 [==============================] - 0s 175us/step - loss: 0.5102 - acc: 0.7762 - val_loss: 0.5419 - val_acc: 0.7449\n",
      "Epoch 90/300\n",
      "554/554 [==============================] - 0s 178us/step - loss: 0.5104 - acc: 0.7599 - val_loss: 0.5091 - val_acc: 0.7959\n",
      "Epoch 91/300\n",
      "554/554 [==============================] - 0s 173us/step - loss: 0.5206 - acc: 0.7310 - val_loss: 0.5144 - val_acc: 0.7551\n",
      "Epoch 92/300\n",
      "554/554 [==============================] - 0s 175us/step - loss: 0.4994 - acc: 0.7563 - val_loss: 0.5194 - val_acc: 0.7347\n",
      "Epoch 93/300\n",
      "554/554 [==============================] - 0s 175us/step - loss: 0.5037 - acc: 0.7617 - val_loss: 0.5662 - val_acc: 0.7551\n",
      "Epoch 94/300\n",
      "554/554 [==============================] - 0s 174us/step - loss: 0.5123 - acc: 0.7635 - val_loss: 0.5223 - val_acc: 0.8061\n",
      "Epoch 95/300\n",
      "554/554 [==============================] - 0s 175us/step - loss: 0.5028 - acc: 0.7563 - val_loss: 0.5187 - val_acc: 0.7551\n",
      "Epoch 96/300\n",
      "554/554 [==============================] - 0s 176us/step - loss: 0.5309 - acc: 0.7401 - val_loss: 0.5603 - val_acc: 0.7551\n",
      "Epoch 97/300\n",
      "554/554 [==============================] - 0s 174us/step - loss: 0.4976 - acc: 0.7635 - val_loss: 0.5346 - val_acc: 0.7653\n",
      "Epoch 98/300\n",
      "554/554 [==============================] - 0s 177us/step - loss: 0.5028 - acc: 0.7545 - val_loss: 0.6104 - val_acc: 0.7449\n",
      "Epoch 99/300\n",
      "554/554 [==============================] - 0s 185us/step - loss: 0.4988 - acc: 0.7509 - val_loss: 0.5686 - val_acc: 0.7449\n",
      "Epoch 100/300\n",
      "554/554 [==============================] - 0s 175us/step - loss: 0.4904 - acc: 0.7617 - val_loss: 0.5030 - val_acc: 0.7653\n",
      "Epoch 101/300\n",
      "554/554 [==============================] - 0s 179us/step - loss: 0.5036 - acc: 0.7563 - val_loss: 0.5110 - val_acc: 0.7143\n",
      "Epoch 102/300\n",
      "554/554 [==============================] - 0s 177us/step - loss: 0.4903 - acc: 0.7635 - val_loss: 0.5024 - val_acc: 0.7653\n",
      "Epoch 103/300\n",
      "554/554 [==============================] - 0s 182us/step - loss: 0.5222 - acc: 0.7401 - val_loss: 0.5783 - val_acc: 0.7143\n",
      "Epoch 104/300\n",
      "554/554 [==============================] - 0s 178us/step - loss: 0.4861 - acc: 0.7671 - val_loss: 0.5522 - val_acc: 0.7551\n",
      "Epoch 105/300\n",
      "554/554 [==============================] - 0s 179us/step - loss: 0.4943 - acc: 0.7690 - val_loss: 0.5217 - val_acc: 0.7755\n",
      "Epoch 106/300\n",
      "554/554 [==============================] - 0s 178us/step - loss: 0.4782 - acc: 0.7762 - val_loss: 0.5396 - val_acc: 0.7551\n",
      "Epoch 107/300\n",
      "554/554 [==============================] - 0s 176us/step - loss: 0.5006 - acc: 0.7744 - val_loss: 0.5630 - val_acc: 0.7041\n",
      "Epoch 108/300\n",
      "554/554 [==============================] - 0s 176us/step - loss: 0.4863 - acc: 0.7671 - val_loss: 0.5056 - val_acc: 0.7551\n",
      "Epoch 109/300\n",
      "554/554 [==============================] - 0s 177us/step - loss: 0.4934 - acc: 0.7581 - val_loss: 0.5827 - val_acc: 0.7041\n",
      "Epoch 110/300\n",
      "554/554 [==============================] - 0s 176us/step - loss: 0.4780 - acc: 0.7744 - val_loss: 0.5233 - val_acc: 0.7959\n",
      "Epoch 111/300\n",
      "554/554 [==============================] - 0s 177us/step - loss: 0.4951 - acc: 0.7599 - val_loss: 0.5376 - val_acc: 0.7959\n",
      "Epoch 112/300\n",
      "554/554 [==============================] - 0s 178us/step - loss: 0.5014 - acc: 0.7491 - val_loss: 0.5030 - val_acc: 0.7347\n",
      "Epoch 113/300\n",
      "554/554 [==============================] - 0s 181us/step - loss: 0.4840 - acc: 0.7780 - val_loss: 0.5295 - val_acc: 0.7755\n",
      "Epoch 114/300\n",
      "554/554 [==============================] - 0s 179us/step - loss: 0.4948 - acc: 0.7563 - val_loss: 0.5282 - val_acc: 0.7653\n",
      "Epoch 115/300\n",
      "554/554 [==============================] - 0s 180us/step - loss: 0.4857 - acc: 0.7726 - val_loss: 0.5120 - val_acc: 0.7551\n",
      "Epoch 116/300\n",
      "554/554 [==============================] - 0s 177us/step - loss: 0.4936 - acc: 0.7581 - val_loss: 0.5741 - val_acc: 0.7245\n",
      "Epoch 117/300\n",
      "554/554 [==============================] - 0s 179us/step - loss: 0.5112 - acc: 0.7401 - val_loss: 0.5164 - val_acc: 0.7857\n",
      "Epoch 118/300\n",
      "554/554 [==============================] - 0s 194us/step - loss: 0.4837 - acc: 0.7599 - val_loss: 0.5755 - val_acc: 0.7041\n",
      "Epoch 119/300\n",
      "554/554 [==============================] - 0s 175us/step - loss: 0.4921 - acc: 0.7617 - val_loss: 0.4988 - val_acc: 0.7653\n",
      "Epoch 120/300\n",
      "554/554 [==============================] - 0s 175us/step - loss: 0.4862 - acc: 0.7653 - val_loss: 0.5148 - val_acc: 0.7857\n",
      "Epoch 121/300\n",
      "554/554 [==============================] - 0s 176us/step - loss: 0.4802 - acc: 0.7635 - val_loss: 0.5135 - val_acc: 0.7041\n",
      "Epoch 122/300\n",
      "554/554 [==============================] - 0s 199us/step - loss: 0.4776 - acc: 0.7780 - val_loss: 0.5206 - val_acc: 0.7551\n",
      "Epoch 123/300\n",
      "554/554 [==============================] - 0s 171us/step - loss: 0.4786 - acc: 0.7762 - val_loss: 0.5209 - val_acc: 0.7245\n",
      "Epoch 124/300\n",
      "554/554 [==============================] - 0s 165us/step - loss: 0.4902 - acc: 0.7726 - val_loss: 0.5554 - val_acc: 0.7143\n",
      "Epoch 125/300\n",
      "554/554 [==============================] - 0s 174us/step - loss: 0.5569 - acc: 0.7383 - val_loss: 0.5193 - val_acc: 0.7857\n",
      "Epoch 126/300\n",
      "554/554 [==============================] - 0s 176us/step - loss: 0.4970 - acc: 0.7690 - val_loss: 0.5927 - val_acc: 0.7551\n",
      "Epoch 127/300\n",
      "554/554 [==============================] - 0s 176us/step - loss: 0.4923 - acc: 0.7780 - val_loss: 0.5064 - val_acc: 0.8265\n",
      "Epoch 128/300\n",
      "554/554 [==============================] - 0s 170us/step - loss: 0.4849 - acc: 0.7762 - val_loss: 0.4905 - val_acc: 0.7449\n",
      "Epoch 129/300\n",
      "554/554 [==============================] - 0s 159us/step - loss: 0.4808 - acc: 0.7545 - val_loss: 0.5446 - val_acc: 0.7755\n",
      "Epoch 130/300\n",
      "554/554 [==============================] - 0s 159us/step - loss: 0.4727 - acc: 0.7834 - val_loss: 0.5424 - val_acc: 0.7857\n",
      "Epoch 131/300\n",
      "554/554 [==============================] - 0s 158us/step - loss: 0.4839 - acc: 0.7726 - val_loss: 0.5626 - val_acc: 0.7653\n",
      "Epoch 132/300\n",
      "554/554 [==============================] - 0s 163us/step - loss: 0.4871 - acc: 0.7617 - val_loss: 0.5554 - val_acc: 0.7449\n",
      "Epoch 133/300\n",
      "554/554 [==============================] - 0s 158us/step - loss: 0.4928 - acc: 0.7690 - val_loss: 0.5716 - val_acc: 0.7449\n",
      "Epoch 134/300\n",
      "554/554 [==============================] - 0s 158us/step - loss: 0.4862 - acc: 0.7870 - val_loss: 0.5773 - val_acc: 0.6837\n",
      "Epoch 135/300\n",
      "554/554 [==============================] - 0s 160us/step - loss: 0.4783 - acc: 0.7726 - val_loss: 0.5068 - val_acc: 0.8061\n",
      "Epoch 136/300\n",
      "554/554 [==============================] - 0s 165us/step - loss: 0.4676 - acc: 0.7744 - val_loss: 0.4914 - val_acc: 0.7449\n",
      "Epoch 137/300\n",
      "554/554 [==============================] - 0s 174us/step - loss: 0.4824 - acc: 0.7780 - val_loss: 0.5216 - val_acc: 0.7755\n",
      "Epoch 138/300\n",
      "554/554 [==============================] - 0s 172us/step - loss: 0.4791 - acc: 0.7635 - val_loss: 0.5069 - val_acc: 0.7755\n",
      "Epoch 139/300\n",
      "554/554 [==============================] - 0s 173us/step - loss: 0.4734 - acc: 0.7690 - val_loss: 0.5329 - val_acc: 0.7857\n",
      "Epoch 140/300\n",
      "554/554 [==============================] - 0s 174us/step - loss: 0.4954 - acc: 0.7635 - val_loss: 0.4804 - val_acc: 0.7551\n",
      "Epoch 141/300\n",
      "554/554 [==============================] - 0s 175us/step - loss: 0.4753 - acc: 0.7671 - val_loss: 0.5906 - val_acc: 0.7551\n",
      "Epoch 142/300\n",
      "554/554 [==============================] - 0s 161us/step - loss: 0.4663 - acc: 0.7852 - val_loss: 0.4883 - val_acc: 0.7653\n",
      "Epoch 143/300\n",
      "554/554 [==============================] - 0s 156us/step - loss: 0.4671 - acc: 0.7816 - val_loss: 0.5160 - val_acc: 0.7857\n",
      "Epoch 144/300\n",
      "554/554 [==============================] - 0s 157us/step - loss: 0.4701 - acc: 0.7581 - val_loss: 0.4889 - val_acc: 0.7959\n",
      "Epoch 145/300\n",
      "554/554 [==============================] - 0s 173us/step - loss: 0.4780 - acc: 0.7816 - val_loss: 0.5523 - val_acc: 0.7857\n",
      "Epoch 146/300\n",
      "554/554 [==============================] - 0s 175us/step - loss: 0.4602 - acc: 0.7744 - val_loss: 0.5142 - val_acc: 0.7347\n",
      "Epoch 147/300\n",
      "554/554 [==============================] - 0s 175us/step - loss: 0.4753 - acc: 0.7653 - val_loss: 0.4933 - val_acc: 0.7755\n",
      "Epoch 148/300\n",
      "554/554 [==============================] - 0s 177us/step - loss: 0.4658 - acc: 0.7780 - val_loss: 0.4871 - val_acc: 0.7959\n",
      "Epoch 149/300\n",
      "554/554 [==============================] - 0s 175us/step - loss: 0.4879 - acc: 0.7653 - val_loss: 0.5022 - val_acc: 0.7551\n",
      "Epoch 150/300\n",
      "554/554 [==============================] - 0s 177us/step - loss: 0.4605 - acc: 0.7744 - val_loss: 0.5065 - val_acc: 0.7755\n",
      "Epoch 151/300\n",
      "554/554 [==============================] - 0s 176us/step - loss: 0.4769 - acc: 0.7581 - val_loss: 0.5340 - val_acc: 0.7449\n",
      "Epoch 152/300\n",
      "554/554 [==============================] - 0s 174us/step - loss: 0.4628 - acc: 0.7762 - val_loss: 0.4910 - val_acc: 0.7857\n",
      "Epoch 153/300\n",
      "554/554 [==============================] - 0s 175us/step - loss: 0.4585 - acc: 0.7924 - val_loss: 0.6051 - val_acc: 0.7551\n",
      "Epoch 154/300\n",
      "554/554 [==============================] - 0s 176us/step - loss: 0.4868 - acc: 0.7527 - val_loss: 0.5368 - val_acc: 0.7449\n",
      "Epoch 155/300\n",
      "554/554 [==============================] - 0s 171us/step - loss: 0.4764 - acc: 0.7617 - val_loss: 0.4877 - val_acc: 0.7551\n",
      "Epoch 156/300\n",
      "554/554 [==============================] - 0s 177us/step - loss: 0.4824 - acc: 0.7780 - val_loss: 0.5283 - val_acc: 0.7857\n",
      "Epoch 157/300\n",
      "554/554 [==============================] - 0s 173us/step - loss: 0.4915 - acc: 0.7762 - val_loss: 0.6337 - val_acc: 0.6633\n",
      "Epoch 158/300\n",
      "554/554 [==============================] - 0s 175us/step - loss: 0.4897 - acc: 0.7762 - val_loss: 0.5030 - val_acc: 0.7857\n",
      "Epoch 159/300\n",
      "554/554 [==============================] - 0s 174us/step - loss: 0.4778 - acc: 0.7690 - val_loss: 0.5001 - val_acc: 0.7857\n",
      "Epoch 160/300\n",
      "554/554 [==============================] - 0s 174us/step - loss: 0.4737 - acc: 0.7635 - val_loss: 0.4954 - val_acc: 0.7959\n",
      "Epoch 161/300\n",
      "554/554 [==============================] - 0s 172us/step - loss: 0.4642 - acc: 0.7708 - val_loss: 0.5209 - val_acc: 0.7653\n",
      "Epoch 162/300\n",
      "554/554 [==============================] - 0s 169us/step - loss: 0.4643 - acc: 0.7762 - val_loss: 0.5884 - val_acc: 0.7551\n",
      "Epoch 163/300\n",
      "554/554 [==============================] - 0s 172us/step - loss: 0.4662 - acc: 0.7942 - val_loss: 0.4838 - val_acc: 0.7959\n",
      "Epoch 164/300\n",
      "554/554 [==============================] - 0s 176us/step - loss: 0.5026 - acc: 0.7581 - val_loss: 0.6131 - val_acc: 0.7245\n",
      "Epoch 165/300\n",
      "554/554 [==============================] - 0s 176us/step - loss: 0.4493 - acc: 0.7798 - val_loss: 0.5197 - val_acc: 0.7857\n",
      "Epoch 166/300\n",
      "554/554 [==============================] - 0s 177us/step - loss: 0.5093 - acc: 0.7563 - val_loss: 0.5029 - val_acc: 0.7857\n",
      "Epoch 167/300\n",
      "554/554 [==============================] - 0s 187us/step - loss: 0.4645 - acc: 0.7906 - val_loss: 0.4915 - val_acc: 0.7449\n",
      "Epoch 168/300\n",
      "554/554 [==============================] - 0s 188us/step - loss: 0.4768 - acc: 0.7708 - val_loss: 0.5426 - val_acc: 0.7857\n",
      "Epoch 169/300\n",
      "554/554 [==============================] - 0s 284us/step - loss: 0.4677 - acc: 0.7653 - val_loss: 0.4875 - val_acc: 0.7245\n",
      "Epoch 170/300\n",
      "554/554 [==============================] - 0s 290us/step - loss: 0.4791 - acc: 0.7581 - val_loss: 0.5070 - val_acc: 0.7449\n",
      "Epoch 171/300\n",
      "554/554 [==============================] - 0s 268us/step - loss: 0.4668 - acc: 0.7870 - val_loss: 0.5675 - val_acc: 0.7347\n",
      "Epoch 172/300\n",
      "554/554 [==============================] - 0s 282us/step - loss: 0.4652 - acc: 0.7834 - val_loss: 0.5671 - val_acc: 0.7653\n",
      "Epoch 173/300\n",
      "554/554 [==============================] - 0s 260us/step - loss: 0.4575 - acc: 0.7888 - val_loss: 0.5894 - val_acc: 0.7245\n",
      "Epoch 174/300\n",
      "554/554 [==============================] - 0s 218us/step - loss: 0.4765 - acc: 0.7762 - val_loss: 0.4867 - val_acc: 0.7755\n",
      "Epoch 175/300\n",
      "554/554 [==============================] - 0s 264us/step - loss: 0.4652 - acc: 0.7906 - val_loss: 0.5573 - val_acc: 0.7347\n",
      "Epoch 176/300\n",
      "554/554 [==============================] - 0s 232us/step - loss: 0.4679 - acc: 0.7744 - val_loss: 0.5414 - val_acc: 0.7653\n",
      "Epoch 177/300\n",
      "554/554 [==============================] - 0s 271us/step - loss: 0.4640 - acc: 0.7708 - val_loss: 0.5272 - val_acc: 0.7857\n",
      "Epoch 178/300\n",
      "554/554 [==============================] - 0s 188us/step - loss: 0.4550 - acc: 0.7798 - val_loss: 0.5581 - val_acc: 0.7347\n",
      "Epoch 179/300\n",
      "554/554 [==============================] - 0s 178us/step - loss: 0.4451 - acc: 0.7870 - val_loss: 0.5127 - val_acc: 0.7755\n",
      "Epoch 180/300\n",
      "554/554 [==============================] - 0s 175us/step - loss: 0.4535 - acc: 0.7888 - val_loss: 0.5107 - val_acc: 0.7551\n",
      "Epoch 181/300\n",
      "554/554 [==============================] - 0s 173us/step - loss: 0.4574 - acc: 0.7852 - val_loss: 0.5637 - val_acc: 0.7449\n",
      "Epoch 182/300\n",
      "554/554 [==============================] - 0s 179us/step - loss: 0.4569 - acc: 0.7924 - val_loss: 0.5119 - val_acc: 0.7041\n",
      "Epoch 183/300\n",
      "554/554 [==============================] - 0s 176us/step - loss: 0.4890 - acc: 0.7527 - val_loss: 0.5125 - val_acc: 0.7347\n",
      "Epoch 184/300\n",
      "554/554 [==============================] - 0s 199us/step - loss: 0.4545 - acc: 0.7816 - val_loss: 0.5950 - val_acc: 0.7347\n",
      "Epoch 185/300\n",
      "554/554 [==============================] - 0s 196us/step - loss: 0.4486 - acc: 0.8032 - val_loss: 0.5245 - val_acc: 0.6939\n",
      "Epoch 186/300\n",
      "554/554 [==============================] - 0s 196us/step - loss: 0.4708 - acc: 0.7744 - val_loss: 0.5127 - val_acc: 0.7653\n",
      "Epoch 187/300\n",
      "554/554 [==============================] - 0s 188us/step - loss: 0.4664 - acc: 0.7798 - val_loss: 0.5060 - val_acc: 0.7653\n",
      "Epoch 188/300\n",
      "554/554 [==============================] - 0s 178us/step - loss: 0.4431 - acc: 0.7924 - val_loss: 0.5094 - val_acc: 0.7857\n",
      "Epoch 189/300\n",
      "554/554 [==============================] - 0s 175us/step - loss: 0.4607 - acc: 0.7996 - val_loss: 0.5555 - val_acc: 0.7857\n",
      "Epoch 190/300\n",
      "554/554 [==============================] - 0s 179us/step - loss: 0.4603 - acc: 0.7762 - val_loss: 0.4869 - val_acc: 0.7755\n",
      "Epoch 191/300\n",
      "554/554 [==============================] - 0s 240us/step - loss: 0.4555 - acc: 0.7870 - val_loss: 0.5048 - val_acc: 0.7755\n",
      "Epoch 192/300\n",
      "554/554 [==============================] - 0s 256us/step - loss: 0.4527 - acc: 0.7960 - val_loss: 0.5875 - val_acc: 0.7347\n",
      "Epoch 193/300\n",
      "554/554 [==============================] - 0s 243us/step - loss: 0.4476 - acc: 0.7870 - val_loss: 0.5260 - val_acc: 0.7755\n",
      "Epoch 194/300\n",
      "554/554 [==============================] - 0s 176us/step - loss: 0.4553 - acc: 0.7780 - val_loss: 0.5338 - val_acc: 0.7551\n",
      "Epoch 195/300\n",
      "554/554 [==============================] - 0s 180us/step - loss: 0.4902 - acc: 0.7834 - val_loss: 0.4971 - val_acc: 0.7959\n",
      "Epoch 196/300\n",
      "554/554 [==============================] - 0s 182us/step - loss: 0.4613 - acc: 0.7780 - val_loss: 0.4900 - val_acc: 0.7755\n",
      "Epoch 197/300\n",
      "554/554 [==============================] - 0s 177us/step - loss: 0.4752 - acc: 0.7798 - val_loss: 0.4835 - val_acc: 0.7245\n",
      "Epoch 198/300\n",
      "554/554 [==============================] - 0s 177us/step - loss: 0.4582 - acc: 0.7870 - val_loss: 0.4842 - val_acc: 0.7653\n",
      "Epoch 199/300\n",
      "554/554 [==============================] - 0s 179us/step - loss: 0.4360 - acc: 0.8051 - val_loss: 0.5532 - val_acc: 0.7653\n",
      "Epoch 200/300\n",
      "554/554 [==============================] - 0s 180us/step - loss: 0.4671 - acc: 0.7653 - val_loss: 0.5154 - val_acc: 0.7755\n",
      "Epoch 201/300\n",
      "554/554 [==============================] - 0s 179us/step - loss: 0.4634 - acc: 0.7780 - val_loss: 0.5493 - val_acc: 0.7551\n",
      "Epoch 202/300\n",
      "554/554 [==============================] - 0s 177us/step - loss: 0.4336 - acc: 0.7852 - val_loss: 0.4953 - val_acc: 0.7449\n",
      "Epoch 203/300\n",
      "554/554 [==============================] - 0s 193us/step - loss: 0.4533 - acc: 0.7870 - val_loss: 0.4877 - val_acc: 0.7857\n",
      "Epoch 204/300\n",
      "554/554 [==============================] - 0s 173us/step - loss: 0.4574 - acc: 0.7870 - val_loss: 0.5078 - val_acc: 0.7755\n",
      "Epoch 205/300\n",
      "554/554 [==============================] - 0s 174us/step - loss: 0.4482 - acc: 0.7888 - val_loss: 0.4848 - val_acc: 0.7755\n",
      "Epoch 206/300\n",
      "554/554 [==============================] - 0s 173us/step - loss: 0.4586 - acc: 0.7852 - val_loss: 0.5232 - val_acc: 0.7755\n",
      "Epoch 207/300\n",
      "554/554 [==============================] - 0s 175us/step - loss: 0.4641 - acc: 0.7834 - val_loss: 0.5100 - val_acc: 0.7347\n",
      "Epoch 208/300\n",
      "554/554 [==============================] - 0s 178us/step - loss: 0.4746 - acc: 0.7780 - val_loss: 0.5152 - val_acc: 0.7857\n",
      "Epoch 209/300\n",
      "554/554 [==============================] - 0s 178us/step - loss: 0.4478 - acc: 0.7798 - val_loss: 0.4979 - val_acc: 0.7551\n",
      "Epoch 210/300\n",
      "554/554 [==============================] - 0s 180us/step - loss: 0.4530 - acc: 0.7906 - val_loss: 0.4987 - val_acc: 0.7755\n",
      "Epoch 211/300\n",
      "554/554 [==============================] - 0s 184us/step - loss: 0.4504 - acc: 0.7942 - val_loss: 0.5060 - val_acc: 0.7347\n",
      "Epoch 212/300\n",
      "554/554 [==============================] - 0s 182us/step - loss: 0.4811 - acc: 0.7744 - val_loss: 0.5081 - val_acc: 0.7653\n",
      "Epoch 213/300\n",
      "554/554 [==============================] - 0s 177us/step - loss: 0.4579 - acc: 0.7780 - val_loss: 0.5476 - val_acc: 0.7449\n",
      "Epoch 214/300\n",
      "554/554 [==============================] - 0s 198us/step - loss: 0.4534 - acc: 0.7924 - val_loss: 0.5307 - val_acc: 0.7551\n",
      "Epoch 215/300\n",
      "554/554 [==============================] - 0s 177us/step - loss: 0.4432 - acc: 0.7888 - val_loss: 0.4957 - val_acc: 0.7449\n",
      "Epoch 216/300\n",
      "554/554 [==============================] - 0s 179us/step - loss: 0.4395 - acc: 0.8032 - val_loss: 0.5197 - val_acc: 0.7755\n",
      "Epoch 217/300\n",
      "554/554 [==============================] - 0s 179us/step - loss: 0.4430 - acc: 0.7780 - val_loss: 0.4909 - val_acc: 0.7959\n",
      "Epoch 218/300\n",
      "554/554 [==============================] - 0s 179us/step - loss: 0.4541 - acc: 0.7942 - val_loss: 0.4820 - val_acc: 0.7245\n",
      "Epoch 219/300\n",
      "554/554 [==============================] - 0s 177us/step - loss: 0.4515 - acc: 0.7978 - val_loss: 0.5643 - val_acc: 0.7449\n",
      "Epoch 220/300\n",
      "554/554 [==============================] - 0s 163us/step - loss: 0.4483 - acc: 0.7780 - val_loss: 0.4959 - val_acc: 0.7857\n",
      "Epoch 221/300\n",
      "554/554 [==============================] - 0s 176us/step - loss: 0.4416 - acc: 0.7942 - val_loss: 0.5199 - val_acc: 0.7653\n",
      "Epoch 222/300\n",
      "554/554 [==============================] - 0s 177us/step - loss: 0.4454 - acc: 0.7924 - val_loss: 0.4953 - val_acc: 0.7755\n",
      "Epoch 223/300\n",
      "554/554 [==============================] - 0s 179us/step - loss: 0.4444 - acc: 0.8014 - val_loss: 0.5042 - val_acc: 0.7245\n",
      "Epoch 224/300\n",
      "554/554 [==============================] - 0s 179us/step - loss: 0.4530 - acc: 0.7996 - val_loss: 0.4838 - val_acc: 0.7143\n",
      "Epoch 225/300\n",
      "554/554 [==============================] - 0s 178us/step - loss: 0.4497 - acc: 0.7870 - val_loss: 0.5113 - val_acc: 0.7449\n",
      "Epoch 226/300\n",
      "554/554 [==============================] - 0s 180us/step - loss: 0.4627 - acc: 0.7798 - val_loss: 0.5558 - val_acc: 0.7347\n",
      "Epoch 227/300\n",
      "554/554 [==============================] - 0s 178us/step - loss: 0.4579 - acc: 0.7816 - val_loss: 0.4970 - val_acc: 0.7857\n",
      "Epoch 228/300\n",
      "554/554 [==============================] - 0s 179us/step - loss: 0.4359 - acc: 0.7960 - val_loss: 0.5016 - val_acc: 0.7143\n",
      "Epoch 229/300\n",
      "554/554 [==============================] - 0s 178us/step - loss: 0.4616 - acc: 0.7870 - val_loss: 0.5539 - val_acc: 0.7551\n",
      "Epoch 230/300\n",
      "554/554 [==============================] - 0s 180us/step - loss: 0.4675 - acc: 0.7690 - val_loss: 0.5026 - val_acc: 0.7245\n",
      "Epoch 231/300\n",
      "554/554 [==============================] - 0s 182us/step - loss: 0.4434 - acc: 0.7852 - val_loss: 0.5235 - val_acc: 0.7653\n",
      "Epoch 232/300\n",
      "554/554 [==============================] - 0s 178us/step - loss: 0.4424 - acc: 0.7852 - val_loss: 0.4946 - val_acc: 0.7653\n",
      "Epoch 233/300\n",
      "554/554 [==============================] - 0s 181us/step - loss: 0.4437 - acc: 0.7870 - val_loss: 0.5054 - val_acc: 0.7653\n",
      "Epoch 234/300\n",
      "554/554 [==============================] - 0s 178us/step - loss: 0.4983 - acc: 0.7671 - val_loss: 0.5061 - val_acc: 0.7653\n",
      "Epoch 235/300\n",
      "554/554 [==============================] - 0s 179us/step - loss: 0.4366 - acc: 0.7906 - val_loss: 0.5090 - val_acc: 0.7755\n",
      "Epoch 236/300\n",
      "554/554 [==============================] - 0s 179us/step - loss: 0.4345 - acc: 0.7978 - val_loss: 0.5254 - val_acc: 0.7959\n",
      "Epoch 237/300\n",
      "554/554 [==============================] - 0s 177us/step - loss: 0.4472 - acc: 0.7816 - val_loss: 0.5035 - val_acc: 0.7449\n",
      "Epoch 238/300\n",
      "554/554 [==============================] - 0s 181us/step - loss: 0.4512 - acc: 0.7906 - val_loss: 0.5266 - val_acc: 0.7449\n",
      "Epoch 239/300\n",
      "554/554 [==============================] - 0s 180us/step - loss: 0.4728 - acc: 0.7870 - val_loss: 0.6388 - val_acc: 0.7041\n",
      "Epoch 240/300\n",
      "554/554 [==============================] - 0s 178us/step - loss: 0.4474 - acc: 0.7852 - val_loss: 0.5009 - val_acc: 0.7347\n",
      "Epoch 241/300\n",
      "554/554 [==============================] - 0s 180us/step - loss: 0.4402 - acc: 0.7924 - val_loss: 0.5059 - val_acc: 0.7755\n",
      "Epoch 242/300\n",
      "554/554 [==============================] - 0s 179us/step - loss: 0.4471 - acc: 0.7888 - val_loss: 0.4856 - val_acc: 0.7755\n",
      "Epoch 243/300\n",
      "554/554 [==============================] - 0s 180us/step - loss: 0.4393 - acc: 0.8014 - val_loss: 0.5246 - val_acc: 0.7551\n",
      "Epoch 244/300\n",
      "554/554 [==============================] - 0s 177us/step - loss: 0.4395 - acc: 0.8195 - val_loss: 0.5011 - val_acc: 0.7449\n",
      "Epoch 245/300\n",
      "554/554 [==============================] - 0s 176us/step - loss: 0.4299 - acc: 0.7924 - val_loss: 0.5603 - val_acc: 0.7551\n",
      "Epoch 246/300\n",
      "554/554 [==============================] - 0s 178us/step - loss: 0.4420 - acc: 0.7888 - val_loss: 0.4984 - val_acc: 0.7857\n",
      "Epoch 247/300\n",
      "554/554 [==============================] - 0s 179us/step - loss: 0.4447 - acc: 0.7996 - val_loss: 0.4910 - val_acc: 0.7653\n",
      "Epoch 248/300\n",
      "554/554 [==============================] - 0s 177us/step - loss: 0.4423 - acc: 0.7906 - val_loss: 0.4959 - val_acc: 0.7449\n",
      "Epoch 249/300\n",
      "554/554 [==============================] - 0s 180us/step - loss: 0.4449 - acc: 0.7888 - val_loss: 0.5272 - val_acc: 0.7041\n",
      "Epoch 250/300\n",
      "554/554 [==============================] - 0s 178us/step - loss: 0.4302 - acc: 0.8069 - val_loss: 0.5074 - val_acc: 0.7857\n",
      "Epoch 251/300\n",
      "554/554 [==============================] - 0s 179us/step - loss: 0.4517 - acc: 0.7762 - val_loss: 0.5023 - val_acc: 0.7857\n",
      "Epoch 252/300\n",
      "554/554 [==============================] - 0s 182us/step - loss: 0.4476 - acc: 0.7888 - val_loss: 0.5203 - val_acc: 0.7653\n",
      "Epoch 253/300\n",
      "554/554 [==============================] - 0s 180us/step - loss: 0.4366 - acc: 0.7906 - val_loss: 0.5201 - val_acc: 0.7551\n",
      "Epoch 254/300\n",
      "554/554 [==============================] - 0s 179us/step - loss: 0.4630 - acc: 0.8032 - val_loss: 0.5607 - val_acc: 0.7347\n",
      "Epoch 255/300\n",
      "554/554 [==============================] - 0s 176us/step - loss: 0.4519 - acc: 0.7726 - val_loss: 0.5589 - val_acc: 0.7551\n",
      "Epoch 256/300\n",
      "554/554 [==============================] - 0s 179us/step - loss: 0.4378 - acc: 0.7996 - val_loss: 0.5800 - val_acc: 0.7143\n",
      "Epoch 257/300\n",
      "554/554 [==============================] - 0s 179us/step - loss: 0.4362 - acc: 0.7942 - val_loss: 0.5045 - val_acc: 0.7653\n",
      "Epoch 258/300\n",
      "554/554 [==============================] - 0s 178us/step - loss: 0.4409 - acc: 0.7906 - val_loss: 0.4937 - val_acc: 0.7347\n",
      "Epoch 259/300\n",
      "554/554 [==============================] - 0s 178us/step - loss: 0.4545 - acc: 0.7834 - val_loss: 0.4929 - val_acc: 0.7857\n",
      "Epoch 260/300\n",
      "554/554 [==============================] - 0s 177us/step - loss: 0.4325 - acc: 0.8069 - val_loss: 0.5276 - val_acc: 0.7653\n",
      "Epoch 261/300\n",
      "554/554 [==============================] - 0s 179us/step - loss: 0.4429 - acc: 0.8014 - val_loss: 0.5146 - val_acc: 0.7755\n",
      "Epoch 262/300\n",
      "554/554 [==============================] - 0s 179us/step - loss: 0.4420 - acc: 0.7744 - val_loss: 0.4921 - val_acc: 0.7857\n",
      "Epoch 263/300\n",
      "554/554 [==============================] - 0s 179us/step - loss: 0.4728 - acc: 0.7690 - val_loss: 0.5536 - val_acc: 0.7245\n",
      "Epoch 264/300\n",
      "554/554 [==============================] - 0s 180us/step - loss: 0.4534 - acc: 0.7924 - val_loss: 0.5375 - val_acc: 0.7347\n",
      "Epoch 265/300\n",
      "554/554 [==============================] - 0s 182us/step - loss: 0.4510 - acc: 0.7798 - val_loss: 0.4904 - val_acc: 0.7347\n",
      "Epoch 266/300\n",
      "554/554 [==============================] - 0s 179us/step - loss: 0.4307 - acc: 0.7960 - val_loss: 0.5136 - val_acc: 0.7041\n",
      "Epoch 267/300\n",
      "554/554 [==============================] - 0s 183us/step - loss: 0.4454 - acc: 0.8051 - val_loss: 0.5187 - val_acc: 0.7347\n",
      "Epoch 268/300\n",
      "554/554 [==============================] - 0s 175us/step - loss: 0.4446 - acc: 0.7906 - val_loss: 0.5582 - val_acc: 0.7449\n",
      "Epoch 269/300\n",
      "554/554 [==============================] - 0s 183us/step - loss: 0.4440 - acc: 0.7834 - val_loss: 0.5005 - val_acc: 0.7245\n",
      "Epoch 270/300\n",
      "554/554 [==============================] - 0s 180us/step - loss: 0.4396 - acc: 0.7942 - val_loss: 0.5110 - val_acc: 0.7755\n",
      "Epoch 271/300\n",
      "554/554 [==============================] - 0s 183us/step - loss: 0.4334 - acc: 0.7978 - val_loss: 0.5268 - val_acc: 0.7245\n",
      "Epoch 272/300\n",
      "554/554 [==============================] - 0s 177us/step - loss: 0.4647 - acc: 0.7906 - val_loss: 0.4946 - val_acc: 0.7245\n",
      "Epoch 273/300\n",
      "554/554 [==============================] - 0s 174us/step - loss: 0.4422 - acc: 0.7870 - val_loss: 0.4995 - val_acc: 0.7755\n",
      "Epoch 274/300\n",
      "554/554 [==============================] - 0s 170us/step - loss: 0.4609 - acc: 0.7834 - val_loss: 0.6057 - val_acc: 0.7449\n",
      "Epoch 275/300\n",
      "554/554 [==============================] - 0s 167us/step - loss: 0.4385 - acc: 0.7960 - val_loss: 0.5911 - val_acc: 0.7347\n",
      "Epoch 276/300\n",
      "554/554 [==============================] - 0s 179us/step - loss: 0.4378 - acc: 0.7870 - val_loss: 0.4980 - val_acc: 0.7347\n",
      "Epoch 277/300\n",
      "554/554 [==============================] - 0s 180us/step - loss: 0.4514 - acc: 0.7852 - val_loss: 0.5027 - val_acc: 0.7347\n",
      "Epoch 278/300\n",
      "554/554 [==============================] - 0s 177us/step - loss: 0.4416 - acc: 0.8014 - val_loss: 0.5105 - val_acc: 0.7551\n",
      "Epoch 279/300\n",
      "554/554 [==============================] - 0s 176us/step - loss: 0.4299 - acc: 0.8032 - val_loss: 0.4838 - val_acc: 0.7143\n",
      "Epoch 280/300\n",
      "554/554 [==============================] - 0s 178us/step - loss: 0.4310 - acc: 0.8014 - val_loss: 0.4865 - val_acc: 0.7449\n",
      "Epoch 281/300\n",
      "554/554 [==============================] - 0s 179us/step - loss: 0.4424 - acc: 0.8032 - val_loss: 0.5194 - val_acc: 0.7653\n",
      "Epoch 282/300\n",
      "554/554 [==============================] - 0s 177us/step - loss: 0.4310 - acc: 0.8051 - val_loss: 0.5851 - val_acc: 0.7449\n",
      "Epoch 283/300\n",
      "554/554 [==============================] - 0s 192us/step - loss: 0.4320 - acc: 0.8123 - val_loss: 0.5175 - val_acc: 0.7347\n",
      "Epoch 284/300\n",
      "554/554 [==============================] - 0s 174us/step - loss: 0.4561 - acc: 0.7726 - val_loss: 0.5027 - val_acc: 0.7653\n",
      "Epoch 285/300\n",
      "554/554 [==============================] - 0s 174us/step - loss: 0.4408 - acc: 0.7906 - val_loss: 0.5155 - val_acc: 0.7755\n",
      "Epoch 286/300\n",
      "554/554 [==============================] - 0s 180us/step - loss: 0.4279 - acc: 0.8087 - val_loss: 0.4889 - val_acc: 0.7653\n",
      "Epoch 287/300\n",
      "554/554 [==============================] - 0s 179us/step - loss: 0.4554 - acc: 0.7852 - val_loss: 0.4843 - val_acc: 0.7449\n",
      "Epoch 288/300\n",
      "554/554 [==============================] - 0s 178us/step - loss: 0.4426 - acc: 0.7978 - val_loss: 0.5895 - val_acc: 0.7653\n",
      "Epoch 289/300\n",
      "554/554 [==============================] - 0s 179us/step - loss: 0.4321 - acc: 0.7888 - val_loss: 0.7020 - val_acc: 0.6939\n",
      "Epoch 290/300\n",
      "554/554 [==============================] - 0s 176us/step - loss: 0.4577 - acc: 0.7726 - val_loss: 0.5911 - val_acc: 0.7449\n",
      "Epoch 291/300\n",
      "554/554 [==============================] - 0s 178us/step - loss: 0.4389 - acc: 0.7852 - val_loss: 0.5289 - val_acc: 0.7551\n",
      "Epoch 292/300\n",
      "554/554 [==============================] - 0s 179us/step - loss: 0.4294 - acc: 0.7996 - val_loss: 0.5202 - val_acc: 0.7857\n",
      "Epoch 293/300\n",
      "554/554 [==============================] - 0s 180us/step - loss: 0.4516 - acc: 0.7906 - val_loss: 0.5375 - val_acc: 0.7449\n",
      "Epoch 294/300\n",
      "554/554 [==============================] - 0s 198us/step - loss: 0.4652 - acc: 0.7852 - val_loss: 0.5124 - val_acc: 0.7041\n",
      "Epoch 295/300\n",
      "554/554 [==============================] - 0s 189us/step - loss: 0.4337 - acc: 0.7852 - val_loss: 0.4952 - val_acc: 0.6939\n",
      "Epoch 296/300\n",
      "554/554 [==============================] - 0s 175us/step - loss: 0.4486 - acc: 0.7942 - val_loss: 0.4985 - val_acc: 0.7551\n",
      "Epoch 297/300\n",
      "554/554 [==============================] - 0s 178us/step - loss: 0.4236 - acc: 0.7906 - val_loss: 0.5050 - val_acc: 0.7245\n",
      "Epoch 298/300\n",
      "554/554 [==============================] - 0s 194us/step - loss: 0.4417 - acc: 0.7888 - val_loss: 0.5199 - val_acc: 0.7653\n",
      "Epoch 299/300\n",
      "554/554 [==============================] - 0s 214us/step - loss: 0.4588 - acc: 0.7726 - val_loss: 0.5646 - val_acc: 0.7347\n",
      "Epoch 300/300\n",
      "554/554 [==============================] - 0s 198us/step - loss: 0.4330 - acc: 0.8051 - val_loss: 0.5084 - val_acc: 0.7551\n"
     ]
    }
   ],
   "source": [
    "# Fit the model\n",
    "#\n",
    "# Use 15% for Validation\n",
    "# Train for 300 epochs\n",
    "# User batch size = 10\n",
    "# Save the model fitting into the variable history\n",
    "model.save('model_file.h5')\n",
    "history = model.fit(X_train, y_train, batch_size=10, epochs=300,validation_split=0.15)"
   ]
  },
  {
   "cell_type": "code",
   "execution_count": 140,
   "metadata": {
    "collapsed": true
   },
   "outputs": [
    {
     "name": "stdout",
     "output_type": "stream",
     "text": [
      "dict_keys(['val_loss', 'val_acc', 'loss', 'acc'])\n"
     ]
    }
   ],
   "source": [
    "# list all data in history\n",
    "print(history.history.keys())"
   ]
  },
  {
   "cell_type": "code",
   "execution_count": 141,
   "metadata": {
    "collapsed": true
   },
   "outputs": [
    {
     "data": {
      "image/png": "[encoded data removed]",
      "text/plain": [
       "<Figure size 432x288 with 1 Axes>"
      ]
     },
     "metadata": {
      "needs_background": "light"
     },
     "output_type": "display_data"
    }
   ],
   "source": [
    "# Plot the History of Training Loss (history.history['loss']) and the Validation Loss (history.history['val_loss'])\n",
    "# Title should be \"Model Loss\"\n",
    "# x label: \"Loss\"\n",
    "# y label: \"Epoch\"\n",
    "# Legend: \"Train\" and \"Validation\"\n",
    "plt.plot(history.history['loss'],  label='linear')\n",
    "plt.plot(history.history['val_loss'], label='linear')\n",
    "\n",
    "\n",
    "# Add a legend\n",
    "plt.legend([\"Train\" , \"Validation\"])\n",
    "\n",
    "# Show the plot\n",
    "plt.xlabel('Loss')\n",
    "plt.ylabel('Epoch')\n",
    "\n",
    "plt.show()"
   ]
  },
  {
   "cell_type": "code",
   "execution_count": 142,
   "metadata": {
    "collapsed": true
   },
   "outputs": [
    {
     "data": {
      "image/png": "[encoded data removed]",
      "text/plain": [
       "<Figure size 432x288 with 1 Axes>"
      ]
     },
     "metadata": {
      "needs_background": "light"
     },
     "output_type": "display_data"
    }
   ],
   "source": [
    "# Plot the History of Training Accuracy (history.history['acc']) and \n",
    "# the Validation Accuracy (history.history['val_acc'])\n",
    "#\n",
    "# Title should be \"Model Accuracy\"\n",
    "# x label: \"Accuracy\"\n",
    "# y label: \"Epoch\"\n",
    "# Legend: \"Train\" and \"Validation\"\n",
    "plt.plot(history.history['acc'],  label='linear')\n",
    "plt.plot(history.history['val_acc'], label='linear')\n",
    "\n",
    "\n",
    "# Add a legend\n",
    "plt.legend([\"Train\" , \"Validation\"])\n",
    "\n",
    "# Show the plot\n",
    "plt.xlabel('Loss')\n",
    "plt.ylabel('Epoch')\n",
    "\n",
    "plt.show()"
   ]
  },
  {
   "cell_type": "code",
   "execution_count": 143,
   "metadata": {
    "collapsed": true
   },
   "outputs": [
    {
     "name": "stdout",
     "output_type": "stream",
     "text": [
      "116/116 [==============================] - 0s 64us/step\n"
     ]
    }
   ],
   "source": [
    "# Evaluate the loss and accuracy on the test data\n",
    "loss, accuracy = model.evaluate(X_test, y_test)"
   ]
  },
  {
   "cell_type": "code",
   "execution_count": 144,
   "metadata": {
    "collapsed": true
   },
   "outputs": [
    {
     "name": "stdout",
     "output_type": "stream",
     "text": [
      "Test score: 0.5059786274515349\n",
      "Test accuracy: 0.7758620689655172\n"
     ]
    }
   ],
   "source": [
    "print('Test score:', loss)\n",
    "print('Test accuracy:', accuracy)"
   ]
  }
 ],
 "metadata": {
  "kernelspec": {
   "display_name": "Python 3",
   "language": "python",
   "name": "python3"
  },
  "language_info": {
   "codemirror_mode": {
    "name": "ipython",
    "version": 3
   },
   "file_extension": ".py",
   "mimetype": "text/x-python",
   "name": "python",
   "nbconvert_exporter": "python",
   "pygments_lexer": "ipython3",
   "version": "3.7.0"
  },
  "varInspector": {
   "cols": {
    "lenName": 16,
    "lenType": 16,
    "lenVar": 40
   },
   "kernels_config": {
    "python": {
     "delete_cmd_postfix": "",
     "delete_cmd_prefix": "del ",
     "library": "var_list.py",
     "varRefreshCmd": "print(var_dic_list())"
    },
    "r": {
     "delete_cmd_postfix": ") ",
     "delete_cmd_prefix": "rm(",
     "library": "var_list.r",
     "varRefreshCmd": "cat(var_dic_list()) "
    }
   },
   "types_to_exclude": [
    "module",
    "function",
    "builtin_function_or_method",
    "instance",
    "_Feature"
   ],
   "window_display": false
  }
 },
 "nbformat": 4,
 "nbformat_minor": 2
}
